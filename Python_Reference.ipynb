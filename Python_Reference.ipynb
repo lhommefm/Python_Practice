{
  "nbformat": 4,
  "nbformat_minor": 0,
  "metadata": {
    "colab": {
      "name": "Python Reference.ipynb",
      "provenance": [],
      "collapsed_sections": [],
      "authorship_tag": "ABX9TyNI1SSAcWRiPj38hrOSDhRk"
    },
    "kernelspec": {
      "name": "python3",
      "display_name": "Python 3"
    },
    "language_info": {
      "name": "python"
    }
  },
  "cells": [
    {
      "cell_type": "markdown",
      "source": [
        "**Working with Lists and Dicts**"
      ],
      "metadata": {
        "id": "D3ANGy_I_1yG"
      }
    },
    {
      "cell_type": "code",
      "execution_count": null,
      "metadata": {
        "id": "OE9eKLK0_z4k",
        "colab": {
          "base_uri": "https://localhost:8080/",
          "height": 200
        },
        "outputId": "310d2f10-ae8b-4d38-b2f5-fb1dfa303a8b"
      },
      "outputs": [
        {
          "output_type": "error",
          "ename": "NameError",
          "evalue": "ignored",
          "traceback": [
            "\u001b[0;31m---------------------------------------------------------------------------\u001b[0m",
            "\u001b[0;31mNameError\u001b[0m                                 Traceback (most recent call last)",
            "\u001b[0;32m<ipython-input-18-90a9ab52df60>\u001b[0m in \u001b[0;36m<module>\u001b[0;34m()\u001b[0m\n\u001b[1;32m      3\u001b[0m \u001b[0;31m# first \"for\" converts each split text into an integer\u001b[0m\u001b[0;34m\u001b[0m\u001b[0;34m\u001b[0m\u001b[0;34m\u001b[0m\u001b[0m\n\u001b[1;32m      4\u001b[0m \u001b[0;31m# the result of \"i\" is wrapped in [] to turn into coordinates\u001b[0m\u001b[0;34m\u001b[0m\u001b[0;34m\u001b[0m\u001b[0;34m\u001b[0m\u001b[0m\n\u001b[0;32m----> 5\u001b[0;31m \u001b[0mpts\u001b[0m \u001b[0;34m=\u001b[0m \u001b[0;34m[\u001b[0m\u001b[0;34m[\u001b[0m\u001b[0mint\u001b[0m\u001b[0;34m(\u001b[0m\u001b[0mj\u001b[0m\u001b[0;34m)\u001b[0m \u001b[0;32mfor\u001b[0m \u001b[0mj\u001b[0m \u001b[0;32min\u001b[0m \u001b[0minput\u001b[0m\u001b[0;34m(\u001b[0m\u001b[0;34m)\u001b[0m\u001b[0;34m.\u001b[0m\u001b[0msplit\u001b[0m\u001b[0;34m(\u001b[0m\u001b[0;34m)\u001b[0m\u001b[0;34m]\u001b[0m \u001b[0;32mfor\u001b[0m \u001b[0mi\u001b[0m \u001b[0;32min\u001b[0m \u001b[0mrange\u001b[0m\u001b[0;34m(\u001b[0m\u001b[0mn\u001b[0m\u001b[0;34m)\u001b[0m\u001b[0;34m]\u001b[0m\u001b[0;34m\u001b[0m\u001b[0;34m\u001b[0m\u001b[0m\n\u001b[0m",
            "\u001b[0;31mNameError\u001b[0m: name 'n' is not defined"
          ]
        }
      ],
      "source": [
        "# create an array using list comprehension\n",
        "# second \"for\" is used to loop over the number of inputs\n",
        "# first \"for\" converts each split text into an integer\n",
        "# the result of \"i\" is wrapped in [] to turn into coordinates\n",
        "pts = [[int(j) for j in input().split()] for i in range(n)]"
      ]
    },
    {
      "cell_type": "code",
      "source": [
        "# filter a dictionary using list comprehension\n",
        "# dict.items() returns a list of the dict's (key,value) tuple pairs\n",
        "new_dict = {key: value for (key, value) in old_dict.items() if len(value) == 6 }\n",
        "\n",
        "# get the min value from a dictionary\n",
        "smallest = min(scores, key=scores.get)"
      ],
      "metadata": {
        "colab": {
          "base_uri": "https://localhost:8080/",
          "height": 235
        },
        "id": "DowjtxgAhptr",
        "outputId": "176b0967-3ebe-4282-fdec-4c0b911f5f2f"
      },
      "execution_count": null,
      "outputs": [
        {
          "output_type": "error",
          "ename": "NameError",
          "evalue": "ignored",
          "traceback": [
            "\u001b[0;31m---------------------------------------------------------------------------\u001b[0m",
            "\u001b[0;31mNameError\u001b[0m                                 Traceback (most recent call last)",
            "\u001b[0;32m<ipython-input-19-f26dc00685c0>\u001b[0m in \u001b[0;36m<module>\u001b[0;34m()\u001b[0m\n\u001b[1;32m      1\u001b[0m \u001b[0;31m# filter a dictionary using list comprehension\u001b[0m\u001b[0;34m\u001b[0m\u001b[0;34m\u001b[0m\u001b[0;34m\u001b[0m\u001b[0m\n\u001b[1;32m      2\u001b[0m \u001b[0;31m# dict.items() returns a list of the dict's (key,value) tuple pairs\u001b[0m\u001b[0;34m\u001b[0m\u001b[0;34m\u001b[0m\u001b[0;34m\u001b[0m\u001b[0m\n\u001b[0;32m----> 3\u001b[0;31m \u001b[0mnew_dict\u001b[0m \u001b[0;34m=\u001b[0m \u001b[0;34m{\u001b[0m\u001b[0mkey\u001b[0m\u001b[0;34m:\u001b[0m \u001b[0mvalue\u001b[0m \u001b[0;32mfor\u001b[0m \u001b[0;34m(\u001b[0m\u001b[0mkey\u001b[0m\u001b[0;34m,\u001b[0m \u001b[0mvalue\u001b[0m\u001b[0;34m)\u001b[0m \u001b[0;32min\u001b[0m \u001b[0mold_dict\u001b[0m\u001b[0;34m.\u001b[0m\u001b[0mitems\u001b[0m\u001b[0;34m(\u001b[0m\u001b[0;34m)\u001b[0m \u001b[0;32mif\u001b[0m \u001b[0mlen\u001b[0m\u001b[0;34m(\u001b[0m\u001b[0mvalue\u001b[0m\u001b[0;34m)\u001b[0m \u001b[0;34m==\u001b[0m \u001b[0;36m6\u001b[0m \u001b[0;34m}\u001b[0m\u001b[0;34m\u001b[0m\u001b[0;34m\u001b[0m\u001b[0m\n\u001b[0m\u001b[1;32m      4\u001b[0m \u001b[0;34m\u001b[0m\u001b[0m\n\u001b[1;32m      5\u001b[0m \u001b[0;31m# get the min value from a dictionary\u001b[0m\u001b[0;34m\u001b[0m\u001b[0;34m\u001b[0m\u001b[0;34m\u001b[0m\u001b[0m\n",
            "\u001b[0;31mNameError\u001b[0m: name 'old_dict' is not defined"
          ]
        }
      ]
    },
    {
      "cell_type": "markdown",
      "source": [
        "**Lamba Functions**"
      ],
      "metadata": {
        "id": "CYn0ecvgAPqA"
      }
    },
    {
      "cell_type": "code",
      "source": [
        "# distance refers to a function to calculate the distance between points\n",
        "# lambda dynamically calculates all of the distances in each point \"pt\" from specified point \"origin\"\n",
        "# min now takes the minimum of the calculated distances for each point in \"array\"\n",
        "min(array, key = lambda pt: distance(origin, pt))"
      ],
      "metadata": {
        "id": "Rq92zO23AJ79"
      },
      "execution_count": null,
      "outputs": []
    },
    {
      "cell_type": "code",
      "source": [
        "# sorting an array based on a lambda function\n",
        "array.sort(key = lambda x: (abs(x),-x))"
      ],
      "metadata": {
        "id": "frKrQkOsCMX5"
      },
      "execution_count": null,
      "outputs": []
    },
    {
      "cell_type": "markdown",
      "source": [
        "**Distance and Heading**"
      ],
      "metadata": {
        "id": "9R0QIOGBYI8M"
      }
    },
    {
      "cell_type": "code",
      "source": [
        "# given two 1D arrays of points, return a 2D distance matrix between all pairs of points\n",
        "# each row \"idx\" in the 2D array shows the distance between the first array \"idx\" value and all points in the second array \n",
        "from scipy.spatial.distance import cdist \n",
        "distances = cdist(list1, list2)"
      ],
      "metadata": {
        "id": "i3XCMnggYLvm"
      },
      "execution_count": null,
      "outputs": []
    },
    {
      "cell_type": "code",
      "source": [
        "# distance between corresponding points in array\n",
        "# returns array with distances\n",
        "distances = np.linalg.norm(array1-array2,axis=1)"
      ],
      "metadata": {
        "id": "2T9iBEvzu2fy"
      },
      "execution_count": null,
      "outputs": []
    },
    {
      "cell_type": "code",
      "source": [
        "# heading: angle in signed radians\n",
        "# y,x coordinates needs to be RELATIVE to 0,0\n",
        "# returns array with the heading of each set of y/x coordinations relative to a central point 0,0\n",
        "angle = np.arctan2(y_coords,x_coords)"
      ],
      "metadata": {
        "id": "8HxqudmuZanW"
      },
      "execution_count": null,
      "outputs": []
    },
    {
      "cell_type": "code",
      "source": [
        "# x/y coordinate change, given travel distance and heading in signed radians\n",
        "x_change = travel_distance * np.cos(angle)\n",
        "y_change = travel_distance * np.sin(angle)"
      ],
      "metadata": {
        "id": "vpddKd5daWFi"
      },
      "execution_count": null,
      "outputs": []
    },
    {
      "cell_type": "markdown",
      "source": [
        "**Numpy General**"
      ],
      "metadata": {
        "id": "V-fUvRR2KSlF"
      }
    },
    {
      "cell_type": "code",
      "source": [
        "# multiply a 2D array by corresponding index values in a 1D array\n",
        "new_2D = old_2d * 1D[:,None]"
      ],
      "metadata": {
        "id": "3QuZIsXZKXvC"
      },
      "execution_count": null,
      "outputs": []
    },
    {
      "cell_type": "code",
      "source": [
        "# create a mask with multiple conditions to do filtering\n",
        "mask = (array[:,6] > 10) & (array[:,0] < 100) \n",
        "array[mask]"
      ],
      "metadata": {
        "id": "R80ErTODnCv7"
      },
      "execution_count": null,
      "outputs": []
    },
    {
      "cell_type": "markdown",
      "source": [
        "**Classes**"
      ],
      "metadata": {
        "id": "vaNPvf8JyA8i"
      }
    },
    {
      "cell_type": "code",
      "source": [
        "# create a class with special methods pre-defined in Python that map to common functions\n",
        "class Name(): # pass in optionalparent class\n",
        "  def __init__(self):  \n",
        "    super().__init__(arguments) # arguments to pass to the parent class init \n",
        "  def __add__(self,other): # self + other; should define a return value\n",
        "  def __sub__(self,other): # self - other \n",
        "  def __eq__(self,other):  # self == other\n",
        "  def __lt__(self,other):  # self < other\n",
        "  def __len__(self):       # len(self)\n",
        "  def __str__(self):       # print (self); function must return a string"
      ],
      "metadata": {
        "id": "H8gWWYK3x_Ke"
      },
      "execution_count": null,
      "outputs": []
    },
    {
      "cell_type": "markdown",
      "source": [
        "**Bitboards**"
      ],
      "metadata": {
        "id": "goOQkChER9NI"
      }
    },
    {
      "cell_type": "code",
      "source": [
        "class Bitboard():\n",
        "  def __init__(self, board, rows, cols):\n",
        "    self.board = ''\n",
        "    self.board_rows = rows\n",
        "    self.board_cols = cols\n",
        "\n",
        "  def play_move(self, col, row):\n",
        "    index = row*self.board_cols + col\n",
        "    self.board = self.board[:index] + \"1\" + self.board[index+1:]\n",
        "\n",
        "  def undo_move(self, col, row):\n",
        "    index = row*self.board_cols + col\n",
        "    self.board = self.board[:index] + \"0\" + self.board[index+1:]\n",
        "  \n",
        "  def get_board(self):\n",
        "    return int(self.board,2) # return an integer of base 2\n",
        "\n",
        "  def shift_board(self,board, direction):\n",
        "    board = int(board,2)\n",
        "    amount = {horizontal:1, vertical:self.cols, diag-up:self.cols-1, diag-down:self.cols+1}\n",
        "    return board >> amount[direction] \n",
        "\n",
        "  def print_board(self,board):\n",
        "    board = np.array(self.board).reshape(self.board_rows,self.board_cols)\n",
        "    print(board)"
      ],
      "metadata": {
        "id": "bpKyx2c0R87C"
      },
      "execution_count": null,
      "outputs": []
    },
    {
      "cell_type": "markdown",
      "source": [
        "**Breadth/Depth First Search**"
      ],
      "metadata": {
        "id": "ACAT0QbSoanM"
      }
    },
    {
      "cell_type": "code",
      "source": [
        "# Breadth First Search: visit all parts of the graph level by level, without repeats, by using a queue\n",
        "# can be simplified if understanding the path isn't needed (by just working with nodes)\n",
        "graph = {                     \n",
        "  'A' : ['B','C'],          # keys are nodes, values are lists of destination nodes\n",
        "  'B' : ['D', 'E'],\n",
        "  'C' : ['F'],\n",
        "  'D' : [],\n",
        "  'E' : ['F'],\n",
        "  'F' : []\n",
        "}\n",
        "\n",
        "def bfs(graph, node):\n",
        "  visited = set()             # Set to keep track of visited nodes.\n",
        "  queue = []                  # Initialize a queue\n",
        "  \n",
        "  visited.add(node)           # First node is immediately visited\n",
        "  queue.append(node)          # First node is added to queue to explore connected nodes\n",
        "\n",
        "  while queue:\n",
        "    path = queue.pop(0)                  # Process the first path in the queue (pop returns the removed item)\n",
        "    node = path[-1]\n",
        "    for neighbour in graph[node]:\n",
        "      if neighbour == \"E\":               # If just looking to find the shortest path, otherwise, delete\n",
        "        return path+neighbour\n",
        "      if neighbour not in visited:       # Avoid repeats\n",
        "          visited.add(neighbour)\n",
        "          queue.append(path+neighbour)   # Keep the full path, or just the node itself if not tracking paths\n",
        "\n",
        "# Driver Code\n",
        "bfs(graph, 'A')"
      ],
      "metadata": {
        "id": "umE3uqr9og-k"
      },
      "execution_count": null,
      "outputs": []
    },
    {
      "cell_type": "code",
      "source": [
        "# Depth First Search: visit all parts of the graph without repeats\n",
        "# If a path is needed, need to path the path + node and select the node instead\n",
        "graph = {\n",
        "    'A' : ['B','C'],\n",
        "    'B' : ['D', 'E'],\n",
        "    'C' : ['F'],\n",
        "    'D' : [],\n",
        "    'E' : ['F'],\n",
        "    'F' : []\n",
        "}\n",
        "\n",
        "def dfs(graph, node, visited=None):\n",
        "    if visited is None:\n",
        "      visited = set()                             # Set to keep track of visited nodes\n",
        "\n",
        "    if node not in visited:\n",
        "      visited.add(node)                           # Track node as visited\n",
        "      for neighbour in graph[node]:\n",
        "        dfs(graph, neighbour, visited)            # Recursively go down the graph\n",
        "\n",
        "# Driver Code\n",
        "dfs(graph, 'A')"
      ],
      "metadata": {
        "id": "BtBU-6EotvHL"
      },
      "execution_count": null,
      "outputs": []
    },
    {
      "cell_type": "markdown",
      "source": [
        "**Algorithms**"
      ],
      "metadata": {
        "id": "a8ajSNPOzuMi"
      }
    },
    {
      "cell_type": "markdown",
      "source": [
        "Merge Sort\n",
        "*   Continuously split the list in half until sublists contain only 1 element\n",
        "*   merge back pairwise with sorting (create merged group by iteratively taking and comparing the smallest from each list pair)\n",
        "*   O(n log n)\n"
      ],
      "metadata": {
        "id": "wz1XtFFDJJe2"
      }
    },
    {
      "cell_type": "code",
      "source": [
        "# perform splits of array \"A\"\n",
        "def merge_sort (A, start = 0, end = None):\n",
        "  if end is None:                                 # if not explicitly defined in a recursive call, take the end of the array\n",
        "    end = len(A)\n",
        "  if 1 < end - start:                           # keep splitting recursively until the length of a string is 1\n",
        "    center = (start+end+1) // 2\n",
        "    merge_sort(A,start,center)                  # recursively call on left side (slicing the array, which may be already sliced)\n",
        "    merge_sort(A,center,end)                    # recursively call on right side \n",
        "    left, right = A[start:center], A[center:end]\n",
        "    merge(left, right, A, len(left), len(right), start, end)\n",
        "\n",
        "# merge them back together\n",
        "def merge(left, right, A, length_left, length_right, start, end):\n",
        "  if start < end:\n",
        "    if (length_right<=0) or (length_left>0 and left[length_left-1] > right[length_right-1]):  # if there are no more values on the right, or (there is a value on the left AND it is greater than correspond on the right)\n",
        "      A[end-1] = left[length_left-1]              # set last value of combined array the last value of left side (working largest first)\n",
        "      length_left = length_left-1                 # changing the index point of left to account for value copied to new array\n",
        "    else:\n",
        "      A[end-1] = right[length_right-1]            # set last value of combined array the last value of right side (working largest first)\n",
        "      length_right = length_right-1               # changing the index point of right to account for value copied to new array\n",
        "    merge(left, right, A, length_left, length_right, start, end-1)      # recurse with array A end point moved one step shorter, and either left/right point moved as well"
      ],
      "metadata": {
        "id": "YEPZEhpfJKlY"
      },
      "execution_count": null,
      "outputs": []
    },
    {
      "cell_type": "code",
      "source": [
        "value = [6,4,6,7,0,4,4,0,7,6]\n",
        "merge_sort(value)\n",
        "value"
      ],
      "metadata": {
        "id": "5quFWBfLMdDD"
      },
      "execution_count": null,
      "outputs": []
    },
    {
      "cell_type": "markdown",
      "source": [
        "Bowling\n",
        "\n",
        "*   Given n pins (0,1,...,n-1) in a line; each pin has a score value.\n",
        "*   You can hit one or two pins; hit 1 pin \"i\", and you get \"vi\" points, hit 2 pins i and i+1, and you get the product of those points\n",
        "*   Goal is to maximize score; you don’t have to hit all the pins \n"
      ],
      "metadata": {
        "id": "8mO-S22gz9kX"
      }
    },
    {
      "cell_type": "code",
      "source": [
        "# Bowling Recursive\n",
        "def bowl_rec(v):\n",
        "  memo = {}\n",
        "  def B(i):\n",
        "    if i >= len(v):                                                     # base case\n",
        "      return 0                                            \n",
        "    if i not in memo:                                                   # check memo for efficiency\n",
        "      option1 = B(i+1)                                                  # option 1: skip the pin and play remaining pins\n",
        "      option2 = v[i]+B(i+1)                                             # option 2: play the 1st pin, and play remaining pins\n",
        "      if i+1 < len(v):                                                              \n",
        "        option3 = v[i]*v[i+1]+B(i+2)                                    # option 3: play the first 2 pins, and play the remaining pins\n",
        "        round_score = max(option1,option2,option3)                      # relation - find max score among options\n",
        "      else:\n",
        "        round_score = max(option1,option2)\n",
        "      memo[i] = round_score                                             # save score in memo\n",
        "    return memo[i]                                                      # value returned by B is the max total score for the game with that selected move (trying all combinations)\n",
        "  return B(0)                                                           # play first pin"
      ],
      "metadata": {
        "id": "aL_N0Px2zsmF"
      },
      "execution_count": null,
      "outputs": []
    },
    {
      "cell_type": "code",
      "source": [
        "# Bowling Loop\n",
        "def bowl_loop(v):\n",
        "  B = {}                                                                # memo of best total scores\n",
        "  B[len(v)] = 0                                                         # base cases - providing value 0 when referenced later on (pins don't exist)\n",
        "  B[len(v)+1] = 0\n",
        "  for i in reversed(range(len(v))):                                     # create range and reverse it to start backwards (highest first)\n",
        "    option1 = B[i+1]                                                    # option 1: skip pin and take the value from round befre\n",
        "    option2 = v[i]+B[i+1]                                               # option 2: take current pin and take the value from round before\n",
        "    if i+1 < len(v):                                              \n",
        "      option3 = v[i]*v[i+1]+B[i+2]                                      # option 3: take combo value and take the value from TWO rounds before\n",
        "      B[i] = max(option1,option2,option3)                 \n",
        "    else:\n",
        "      B[i] = max(option1,option2)\n",
        "  print (B)\n",
        "  return B[0]"
      ],
      "metadata": {
        "id": "da1tLG4G4e0o"
      },
      "execution_count": null,
      "outputs": []
    },
    {
      "cell_type": "code",
      "source": [
        "v = [1,1,2,3,-1,1]\n",
        "bowl_loop(v)"
      ],
      "metadata": {
        "id": "3eQiJcp11pHb"
      },
      "execution_count": null,
      "outputs": []
    },
    {
      "cell_type": "code",
      "source": [
        "import sys\n",
        "import math\n",
        "\n",
        "\n",
        "\n",
        "# -------------------------------------------------------------------------------------------------\n",
        "# Skynet class: with a dictionary of all the nodes and all the gateways in the skynet\n",
        "# -------------------------------------------------------------------------------------------------\n",
        "class Skynet:\n",
        "\n",
        "    def __init__(self, numnodes, numlinks, numgateways):\n",
        "\n",
        "        self.size = numnodes\n",
        "        self.numlinks = numlinks\n",
        "        self.numgateways = numgateways\n",
        "        self.gateways = {}\n",
        "        self.nodes = {_: Node(_) for _ in range(0, self.size)}\n",
        "\n",
        "    def addLink(self, pair):\n",
        "\n",
        "        # We link the nodes and assign a weight to the link.\n",
        "        # For this Skynet scenario weight will always be 1 but it mught be usefull in other scenarios\n",
        "        self.nodes[pair[0]].links[pair[1]] = [pair[1], 1]\n",
        "        self.nodes[pair[1]].links[pair[0]] = [pair[0], 1]\n",
        "        return\n",
        "\n",
        "    def addGateway(self, gate):\n",
        "\n",
        "        self.gateways[gate] = gate\n",
        "        return\n",
        "\n",
        "    # -------------------------------------------------------------------------------------------------\n",
        "    # Method to find (dijkstra) all the shortest paths from a given node (gate) to all the other nodes\n",
        "    # in the Skynet graph\n",
        "    # -------------------------------------------------------------------------------------------------\n",
        "    def shortestPaths(self, gate):\n",
        "\n",
        "        # We create a dictionay of nodes (tablenodes) with a double value:\n",
        "        #  1.- The size of the path (initialized to infinit)\n",
        "        #  2.- The optimal path (\"\" to start with)\n",
        "        # We also create a dictionary of visited nodes (visitednodes) where we keep the nodes not visited yet\n",
        "        tablenodes = {}\n",
        "        visitednodes = {}\n",
        "\n",
        "        # We initialize both dictionaries\n",
        "        for node in self.nodes.keys():\n",
        "            tablenodes[node] = [math.inf, \"\"]\n",
        "            visitednodes[node] = False\n",
        "\n",
        "        # We apply initial values to the gateway node (0 distance and no path to itself)\n",
        "        tablenodes[gate] = [0, str(gate) + \";\"]\n",
        "\n",
        "        # we delete all the gate nodes from the visited dict (except the one we are working with)\n",
        "        # so we do not go through them when finding the different paths\n",
        "        for restgates in self.gateways:\n",
        "            if restgates != gate:\n",
        "                del visitednodes[restgates]\n",
        "\n",
        "        # We repeat the process while there are nodes in the visited dictionary\n",
        "        while len(visitednodes) > 0:\n",
        "\n",
        "            # We set the pointer to the next node with shorter path and that is still on the visited dict\n",
        "            # For that, we go through the visitednodes dict. We call the node to work with: \"minnode\" \n",
        "            # The first time it will select the gate node since it is the only one with value different from Inf\n",
        "            minnode = \"\"\n",
        "            for node in visitednodes.keys():\n",
        "                if minnode == \"\":\n",
        "                    minnode = node\n",
        "                else:\n",
        "                    if tablenodes[node][0] < tablenodes[minnode][0]:\n",
        "                        minnode = node\n",
        "\n",
        "            # We delete the selected node from the visited dict\n",
        "            del visitednodes[minnode]\n",
        "\n",
        "            # We analyse all the links associated to the minimum distance node\n",
        "            for link in self.nodes[minnode].links.keys():\n",
        "\n",
        "                # But we process only those nodes that have not been visited yet\n",
        "                if link in visitednodes.keys():\n",
        "\n",
        "                    # We calculate the distance: current distance to the node + the weight of the link (always 1)\n",
        "                    \n",
        "                    # Note: For the size/distance of the path:\n",
        "                    #    - we will add 1 if the node is not linked with any gateway\n",
        "                    #    - we will add 0 the node if it has a link to a gate\n",
        "                    #    - we will add -1 if the node is linked to two gates\n",
        "                    \n",
        "                    # if the node shares a link with any gateway we substract one from \"foundgateways\"\n",
        "                    foundgateways = 1\n",
        "                    for thelinks in self.nodes[link].links:\n",
        "                        if thelinks in self.gateways:\n",
        "                            foundgateways -= 1\n",
        "\n",
        "                    distance = tablenodes[minnode][0] + foundgateways\n",
        "\n",
        "                    # If the difference is lower than the one registered on the nodes path table \n",
        "                    # or if the distance is equal but the path is shorter.\n",
        "                    # We update the nodes path table (\"tablenodes\") for the current node (link) \n",
        "                    pathsizemin = len(tablenodes[minnode][1].split(\";\")[:-1])\n",
        "                    pathsizelink = len(tablenodes[link][1].split(\";\")[:-1])\n",
        "\n",
        "                    if distance < tablenodes[link][0] or \\\n",
        "                        (distance == tablenodes[link][0] and pathsizelink > pathsizemin):\n",
        "\n",
        "                        tablenodes[link][0] = distance\n",
        "                        tablenodes[link][1] = tablenodes[minnode][1] + str(link) + \";\"\n",
        "\n",
        "        # We exit the while loop if all the nodes have been visited. \n",
        "        # The table of nodes path is now updated with all the\n",
        "        # possible minimum paths. We return the node table.\n",
        "        return tablenodes\n",
        "\n",
        "\n",
        "    # -------------------------------------------------------------------------------------------------\n",
        "    # Method to call the generic shortestPaths method for every single gateway\n",
        "    # returning only the shortest path to the Agent containing the link thas has to be severed\n",
        "    # -------------------------------------------------------------------------------------------------\n",
        "    def bestPath(self, agent):\n",
        "\n",
        "        # We keep track of the minimum length of the path and the bestpath\n",
        "        minlen = math.inf\n",
        "        bestpath = []\n",
        "\n",
        "        # For every gate in the Skynet\n",
        "        for gate in self.gateways.keys():\n",
        "\n",
        "            # Obtaining all the paths and choosing the one driving to the agent\n",
        "            tablenodes = self.shortestPaths(gate)\n",
        "            path = tablenodes[agent][1].split(\";\")[:-1]\n",
        "\n",
        "            # If the calculated value of the length of the path is lower...\n",
        "            # ...taking into account the gateway logic in \"shortestPaths\"\n",
        "            if tablenodes[agent][0] < minlen:\n",
        "                minlen = tablenodes[agent][0]\n",
        "                closestgate = gate\n",
        "                bestpath = path\n",
        "            #If it is equal, we compare the actual length of the path     \n",
        "            elif tablenodes[agent][0] == minlen:\n",
        "                if len(path) < len(bestpath):\n",
        "                    minlen = tablenodes[agent][0]\n",
        "                    closestgate = gate\n",
        "                    bestpath = path\n",
        "\n",
        "        # we delete the link (both ways) so it is not considered in next turns as a valid link\n",
        "        del self.nodes[int(bestpath[0])].links[int(bestpath[1])]\n",
        "        del self.nodes[int(bestpath[1])].links[int(bestpath[0])]\n",
        "\n",
        "        return bestpath\n",
        "\n",
        "    def __str__(self):\n",
        "\n",
        "        string = \"Skynet size:\" + str(self.size) + \"\\n\\n\"\n",
        "        for node in self.nodes.values():\n",
        "            string = string + str(node) + \"\\n\"\n",
        "\n",
        "        string = string + \"\\nSkynet Gateways: \" + str(self.numgateways) + \" => \" + str(self.gateways)\n",
        "        return string\n",
        "\n",
        "\n",
        "class Node:\n",
        "\n",
        "    def __init__(self, key):\n",
        "        self.key = key\n",
        "        self.links = {}\n",
        "\n",
        "    def __str__(self):\n",
        "        string = str(self.key) + \" linked to: \"\n",
        "        for i in self.links:\n",
        "            string = string + str(i) + \",\"\n",
        "\n",
        "        return (string[:-1])\n",
        "\n",
        "\n",
        "# --------------- Main program -----------------------\n",
        "\n",
        "numnodes, numlinks, numgates = [int(i) for i in input().split()]\n",
        "\n",
        "# We create the Skynet network\n",
        "mySky = Skynet(numnodes, numlinks, numgates)\n",
        "\n",
        "# We add all links to the Skynet\n",
        "for i in range(numlinks):\n",
        "    mySky.addLink([int(j) for j in input().split()])\n",
        "\n",
        "# We add all gateways to the Skynet\n",
        "for i in range(numgates):\n",
        "    mySky.addGateway(int(input()))\n",
        "\n",
        "# game loop\n",
        "while True:\n",
        "    # Find the best path for the node on which the Skynet agent is positioned this turn (int(input()))\n",
        "    thepath = mySky.bestPath(int(input()))\n",
        "    print (thepath[0]+\" \"+thepath[1])\n",
        "\n"
      ],
      "metadata": {
        "id": "mYDvVR-0AVCV"
      },
      "execution_count": null,
      "outputs": []
    },
    {
      "cell_type": "code",
      "source": [
        "graph = {1: [0, 2], 0: [1, 13, 23], 2: [1, 3, 41], 3: [2, 4], 4: [3, 5], 5: [4, 10], 6: [3], 7: [3, 41, 48], 9: [5, 40], 8: [5], 13: [0, 14], 14: [13, 15, 23], 15: [14, 19], 16: [13, 23], 17: [14, 24], 18: [15, 19, 20], 19: [15, 20], 20: [19, 21], 22: [20], 23: [0, 14], 21: [20, 24, 25, 30], 24: [21, 17], 28: [27], 27: [29, 26], 29: [27], 26: [27, 25], 25: [26, 21], 30: [21, 31], 34: [30, 46], 31: [32, 30], 35: [31, 45], 32: [33, 31], 36: [32], 38: [33], 33: [32, 39], 37: [33, 40], 39: [33, 40, 42], 40: [39, 44], 41: [2, 46], 42: [39, 43], 43: [42, 10, 47], 10: [43, 5, 47], 46: [41, 48], 45: [44, 48], 44: [45, 40], 47: [10, 43], 12: [47], 11: [47], 48: [46, 45]}\n",
        "exits =  {34, 35, 36, 37, 6, 7, 8, 9, 38, 11, 12, 16, 17, 18, 22, 28, 29}\n",
        "si = 3\n",
        "\n",
        "def gateways(graph,exits):\n",
        "  gateways = {}\n",
        "  for node in graph:               # look at each node\n",
        "    for neighbour in graph[node]:  # look at each nodes' connections\n",
        "      if neighbour in exits:\n",
        "        try: \n",
        "          gateways[node].append(neighbour)\n",
        "        except:\n",
        "          gateways[node] = [neighbour]\n",
        "  return gateways\n",
        "\n",
        "def danger_graph(gateways):\n",
        "  dangerous_graph = {key:value for (key,value) in gateway_graph.items() if len(value) > 1}\n",
        "  return dangerous_graph\n",
        "\n",
        "def most_danger_graph(graph,dangerous_nodes):\n",
        "  scores = {}\n",
        "  for node in dangerous_nodes:\n",
        "    scores[node] = []\n",
        "    routes = bfs(graph,si,[node],15)    # each node has a seperate list of paths\n",
        "    # print(f'most danger graph - node: {node} routes: {routes}')\n",
        "    if routes is not None:\n",
        "      for route in routes:   # route is a path array\n",
        "          route_score = 0\n",
        "          for node2 in route: # for every node in the route\n",
        "            if node2 not in set(gateway_graph.keys()) and node2 not in exits:\n",
        "              route_score += 1.01\n",
        "            else:\n",
        "              route_score += 0.01\n",
        "          scores[node].append(route_score)\n",
        "          print(f'route/score {route} {route_score}')\n",
        "    else:\n",
        "      scores[node].append(0)\n",
        "    # print(f'scores: {scores}')\n",
        "    \n",
        "  for node in scores:\n",
        "    scores[node] = min(scores[node])\n",
        "  smallest = min(scores, key=scores.get)\n",
        "  print(f'scores: {scores}, {smallest}')\n",
        "  return smallest       \n",
        "  \n",
        "def bfs(graph, node, exits, shortest):\n",
        "    queue = []\n",
        "    potential_routes = []\n",
        "    queue.append([node])\n",
        "    shortest = shortest\n",
        "\n",
        "    while queue:\n",
        "        # print(f'while queue start: {queue}')\n",
        "        route = queue.pop(0)\n",
        "        node = route[-1]\n",
        "        # print(f'route: {route}, last node: {node}')\n",
        "        if node in graph:\n",
        "          for neighbour in graph[node]:                 # follow all links out\n",
        "            if neighbour not in route:                  # don't go in a circle\n",
        "              # print(f'neighbour: {neighbour}')\n",
        "              new_route = route + [neighbour]\n",
        "              # print(f'new route: {new_route}')          \n",
        "              if neighbour in exits and len(new_route) <= shortest:\n",
        "                potential_routes.append(new_route)\n",
        "                # print(f'exit_route: {new_route} vs. shortest: {shortest}')\n",
        "              if len(potential_routes) == 0 and len(new_route) < shortest:\n",
        "                queue.append(new_route)\n",
        "                # print(f'new queue: {queue}')  \n",
        "    # print(f'potential routes: {potential_routes}')\n",
        "    if len(potential_routes) > 0:\n",
        "      paths = sorted(potential_routes, key=len)      \n",
        "      # print(f'shortest paths: {paths}')\n",
        "      return paths\n",
        "\n",
        "gateway_graph = gateways(graph,exits) \n",
        "print(f'gateways: {gateway_graph}')\n",
        "print(f'gateway keys: {set(gateway_graph.keys())}')\n",
        "dangerous_graph = danger_graph(gateways)\n",
        "print(f'dangerous: {dangerous_graph}')\n",
        "if len(dangerous_graph) > 0:\n",
        "  most_dangerous = most_danger_graph(graph,dangerous_graph)\n",
        "  print(f'most_dangerous: {most_dangerous}')\n",
        "\n",
        "if len(dangerous_graph)>0:\n",
        "  shortest = 2\n",
        "else:\n",
        "  shortest = 15\n",
        "routes = bfs(graph,si,exits,shortest)\n",
        "print(f'selected route: {routes}')\n",
        "\n",
        "if routes is not None:                                           # dangerous route exits, no immediate danger\n",
        "  x,y = routes[0][-2:] \n",
        "else:\n",
        "  if most_dangerous is not None:\n",
        "    x = most_dangerous\n",
        "    y = dangerous_graph[x][0]\n",
        "  elif len(dangerous_graph) > 0:\n",
        "    x = list(dangerous_graph.keys())[0]\n",
        "    y = dangerous_graph[x][0]\n",
        "\n",
        "graph[x].remove(y)\n",
        "print (x,y)"
      ],
      "metadata": {
        "colab": {
          "base_uri": "https://localhost:8080/"
        },
        "outputId": "03b6260e-1998-4298-eb8a-a02f81a60d09",
        "id": "hCFUrMO4fEQ7"
      },
      "execution_count": null,
      "outputs": [
        {
          "output_type": "stream",
          "name": "stdout",
          "text": [
            "gateways: {24: [17], 27: [29]}\n",
            "gateway keys: {24, 27}\n",
            "dangerous: {}\n",
            "most_dangerous: None\n",
            "selected route: [[3, 2, 1, 0, 13, 14, 15, 19, 20, 21, 24, 17], [3, 2, 1, 0, 23, 14, 15, 19, 20, 21, 24, 17]]\n",
            "24 17\n"
          ]
        }
      ]
    }
  ]
}