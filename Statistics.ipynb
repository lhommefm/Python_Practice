{
  "nbformat": 4,
  "nbformat_minor": 0,
  "metadata": {
    "colab": {
      "name": "Statistics.ipynb",
      "provenance": [],
      "collapsed_sections": [],
      "authorship_tag": "ABX9TyPULLKXVczSqK1ouY0AaXVQ"
    },
    "kernelspec": {
      "name": "python3",
      "display_name": "Python 3"
    },
    "language_info": {
      "name": "python"
    }
  },
  "cells": [
    {
      "cell_type": "code",
      "execution_count": null,
      "metadata": {
        "id": "mVXLXC4Q-0bd"
      },
      "outputs": [],
      "source": [
        "import math\n",
        "import numpy as np\n",
        "import pandas as pd\n",
        "import matplotlib.pyplot as plt\n",
        "from sklearn.model_selection import train_test_split, KFold, cross_val_score\n",
        "from sklearn.linear_model import LinearRegression, LogisticRegression\n",
        "from sklearn.ensemble import RandomForestClassifier\n",
        "from sklearn.tree import DecisionTreeClassifier, plot_tree, export_graphviz\n",
        "import sklearn.metrics as metrics\n",
        "from sklearn.impute import KNNImputer\n",
        "from sklearn.cluster import AgglomerativeClustering\n",
        "from scipy.cluster.hierarchy import dendrogram, linkage\n",
        "import statsmodels.api as sm"
      ]
    },
    {
      "cell_type": "markdown",
      "source": [
        "# **Linear Regression**"
      ],
      "metadata": {
        "id": "l5mjwLYfR8rD"
      }
    },
    {
      "cell_type": "code",
      "source": [
        "df = pd.read_csv('NBA Data.csv')                 # open a csv file in pandas\n",
        "df.describe()                                    # statistical details about the dataset\n",
        "df.head(10)                                      # see header row and top rows (specified in argument)"
      ],
      "metadata": {
        "colab": {
          "base_uri": "https://localhost:8080/",
          "height": 360
        },
        "id": "n-p0qNfmAM6O",
        "outputId": "1e94e436-181b-43c9-f735-1ed09411cc80"
      },
      "execution_count": null,
      "outputs": [
        {
          "output_type": "error",
          "ename": "FileNotFoundError",
          "evalue": "ignored",
          "traceback": [
            "\u001b[0;31m---------------------------------------------------------------------------\u001b[0m",
            "\u001b[0;31mFileNotFoundError\u001b[0m                         Traceback (most recent call last)",
            "\u001b[0;32m<ipython-input-2-582f1948b4fb>\u001b[0m in \u001b[0;36m<module>\u001b[0;34m()\u001b[0m\n\u001b[0;32m----> 1\u001b[0;31m \u001b[0mdf\u001b[0m \u001b[0;34m=\u001b[0m \u001b[0mpd\u001b[0m\u001b[0;34m.\u001b[0m\u001b[0mread_csv\u001b[0m\u001b[0;34m(\u001b[0m\u001b[0;34m'NBA Data.csv'\u001b[0m\u001b[0;34m)\u001b[0m                 \u001b[0;31m# open a csv file in pandas\u001b[0m\u001b[0;34m\u001b[0m\u001b[0;34m\u001b[0m\u001b[0m\n\u001b[0m\u001b[1;32m      2\u001b[0m \u001b[0mdf\u001b[0m\u001b[0;34m.\u001b[0m\u001b[0mdescribe\u001b[0m\u001b[0;34m(\u001b[0m\u001b[0;34m)\u001b[0m                                    \u001b[0;31m# statistical details about the dataset\u001b[0m\u001b[0;34m\u001b[0m\u001b[0;34m\u001b[0m\u001b[0m\n\u001b[1;32m      3\u001b[0m \u001b[0mdf\u001b[0m\u001b[0;34m.\u001b[0m\u001b[0mhead\u001b[0m\u001b[0;34m(\u001b[0m\u001b[0;36m10\u001b[0m\u001b[0;34m)\u001b[0m                                      \u001b[0;31m# see header row and top rows (specified in argument)\u001b[0m\u001b[0;34m\u001b[0m\u001b[0;34m\u001b[0m\u001b[0m\n",
            "\u001b[0;32m/usr/local/lib/python3.7/dist-packages/pandas/util/_decorators.py\u001b[0m in \u001b[0;36mwrapper\u001b[0;34m(*args, **kwargs)\u001b[0m\n\u001b[1;32m    309\u001b[0m                     \u001b[0mstacklevel\u001b[0m\u001b[0;34m=\u001b[0m\u001b[0mstacklevel\u001b[0m\u001b[0;34m,\u001b[0m\u001b[0;34m\u001b[0m\u001b[0;34m\u001b[0m\u001b[0m\n\u001b[1;32m    310\u001b[0m                 )\n\u001b[0;32m--> 311\u001b[0;31m             \u001b[0;32mreturn\u001b[0m \u001b[0mfunc\u001b[0m\u001b[0;34m(\u001b[0m\u001b[0;34m*\u001b[0m\u001b[0margs\u001b[0m\u001b[0;34m,\u001b[0m \u001b[0;34m**\u001b[0m\u001b[0mkwargs\u001b[0m\u001b[0;34m)\u001b[0m\u001b[0;34m\u001b[0m\u001b[0;34m\u001b[0m\u001b[0m\n\u001b[0m\u001b[1;32m    312\u001b[0m \u001b[0;34m\u001b[0m\u001b[0m\n\u001b[1;32m    313\u001b[0m         \u001b[0;32mreturn\u001b[0m \u001b[0mwrapper\u001b[0m\u001b[0;34m\u001b[0m\u001b[0;34m\u001b[0m\u001b[0m\n",
            "\u001b[0;32m/usr/local/lib/python3.7/dist-packages/pandas/io/parsers/readers.py\u001b[0m in \u001b[0;36mread_csv\u001b[0;34m(filepath_or_buffer, sep, delimiter, header, names, index_col, usecols, squeeze, prefix, mangle_dupe_cols, dtype, engine, converters, true_values, false_values, skipinitialspace, skiprows, skipfooter, nrows, na_values, keep_default_na, na_filter, verbose, skip_blank_lines, parse_dates, infer_datetime_format, keep_date_col, date_parser, dayfirst, cache_dates, iterator, chunksize, compression, thousands, decimal, lineterminator, quotechar, quoting, doublequote, escapechar, comment, encoding, encoding_errors, dialect, error_bad_lines, warn_bad_lines, on_bad_lines, delim_whitespace, low_memory, memory_map, float_precision, storage_options)\u001b[0m\n\u001b[1;32m    584\u001b[0m     \u001b[0mkwds\u001b[0m\u001b[0;34m.\u001b[0m\u001b[0mupdate\u001b[0m\u001b[0;34m(\u001b[0m\u001b[0mkwds_defaults\u001b[0m\u001b[0;34m)\u001b[0m\u001b[0;34m\u001b[0m\u001b[0;34m\u001b[0m\u001b[0m\n\u001b[1;32m    585\u001b[0m \u001b[0;34m\u001b[0m\u001b[0m\n\u001b[0;32m--> 586\u001b[0;31m     \u001b[0;32mreturn\u001b[0m \u001b[0m_read\u001b[0m\u001b[0;34m(\u001b[0m\u001b[0mfilepath_or_buffer\u001b[0m\u001b[0;34m,\u001b[0m \u001b[0mkwds\u001b[0m\u001b[0;34m)\u001b[0m\u001b[0;34m\u001b[0m\u001b[0;34m\u001b[0m\u001b[0m\n\u001b[0m\u001b[1;32m    587\u001b[0m \u001b[0;34m\u001b[0m\u001b[0m\n\u001b[1;32m    588\u001b[0m \u001b[0;34m\u001b[0m\u001b[0m\n",
            "\u001b[0;32m/usr/local/lib/python3.7/dist-packages/pandas/io/parsers/readers.py\u001b[0m in \u001b[0;36m_read\u001b[0;34m(filepath_or_buffer, kwds)\u001b[0m\n\u001b[1;32m    480\u001b[0m \u001b[0;34m\u001b[0m\u001b[0m\n\u001b[1;32m    481\u001b[0m     \u001b[0;31m# Create the parser.\u001b[0m\u001b[0;34m\u001b[0m\u001b[0;34m\u001b[0m\u001b[0;34m\u001b[0m\u001b[0m\n\u001b[0;32m--> 482\u001b[0;31m     \u001b[0mparser\u001b[0m \u001b[0;34m=\u001b[0m \u001b[0mTextFileReader\u001b[0m\u001b[0;34m(\u001b[0m\u001b[0mfilepath_or_buffer\u001b[0m\u001b[0;34m,\u001b[0m \u001b[0;34m**\u001b[0m\u001b[0mkwds\u001b[0m\u001b[0;34m)\u001b[0m\u001b[0;34m\u001b[0m\u001b[0;34m\u001b[0m\u001b[0m\n\u001b[0m\u001b[1;32m    483\u001b[0m \u001b[0;34m\u001b[0m\u001b[0m\n\u001b[1;32m    484\u001b[0m     \u001b[0;32mif\u001b[0m \u001b[0mchunksize\u001b[0m \u001b[0;32mor\u001b[0m \u001b[0miterator\u001b[0m\u001b[0;34m:\u001b[0m\u001b[0;34m\u001b[0m\u001b[0;34m\u001b[0m\u001b[0m\n",
            "\u001b[0;32m/usr/local/lib/python3.7/dist-packages/pandas/io/parsers/readers.py\u001b[0m in \u001b[0;36m__init__\u001b[0;34m(self, f, engine, **kwds)\u001b[0m\n\u001b[1;32m    809\u001b[0m             \u001b[0mself\u001b[0m\u001b[0;34m.\u001b[0m\u001b[0moptions\u001b[0m\u001b[0;34m[\u001b[0m\u001b[0;34m\"has_index_names\"\u001b[0m\u001b[0;34m]\u001b[0m \u001b[0;34m=\u001b[0m \u001b[0mkwds\u001b[0m\u001b[0;34m[\u001b[0m\u001b[0;34m\"has_index_names\"\u001b[0m\u001b[0;34m]\u001b[0m\u001b[0;34m\u001b[0m\u001b[0;34m\u001b[0m\u001b[0m\n\u001b[1;32m    810\u001b[0m \u001b[0;34m\u001b[0m\u001b[0m\n\u001b[0;32m--> 811\u001b[0;31m         \u001b[0mself\u001b[0m\u001b[0;34m.\u001b[0m\u001b[0m_engine\u001b[0m \u001b[0;34m=\u001b[0m \u001b[0mself\u001b[0m\u001b[0;34m.\u001b[0m\u001b[0m_make_engine\u001b[0m\u001b[0;34m(\u001b[0m\u001b[0mself\u001b[0m\u001b[0;34m.\u001b[0m\u001b[0mengine\u001b[0m\u001b[0;34m)\u001b[0m\u001b[0;34m\u001b[0m\u001b[0;34m\u001b[0m\u001b[0m\n\u001b[0m\u001b[1;32m    812\u001b[0m \u001b[0;34m\u001b[0m\u001b[0m\n\u001b[1;32m    813\u001b[0m     \u001b[0;32mdef\u001b[0m \u001b[0mclose\u001b[0m\u001b[0;34m(\u001b[0m\u001b[0mself\u001b[0m\u001b[0;34m)\u001b[0m\u001b[0;34m:\u001b[0m\u001b[0;34m\u001b[0m\u001b[0;34m\u001b[0m\u001b[0m\n",
            "\u001b[0;32m/usr/local/lib/python3.7/dist-packages/pandas/io/parsers/readers.py\u001b[0m in \u001b[0;36m_make_engine\u001b[0;34m(self, engine)\u001b[0m\n\u001b[1;32m   1038\u001b[0m             )\n\u001b[1;32m   1039\u001b[0m         \u001b[0;31m# error: Too many arguments for \"ParserBase\"\u001b[0m\u001b[0;34m\u001b[0m\u001b[0;34m\u001b[0m\u001b[0;34m\u001b[0m\u001b[0m\n\u001b[0;32m-> 1040\u001b[0;31m         \u001b[0;32mreturn\u001b[0m \u001b[0mmapping\u001b[0m\u001b[0;34m[\u001b[0m\u001b[0mengine\u001b[0m\u001b[0;34m]\u001b[0m\u001b[0;34m(\u001b[0m\u001b[0mself\u001b[0m\u001b[0;34m.\u001b[0m\u001b[0mf\u001b[0m\u001b[0;34m,\u001b[0m \u001b[0;34m**\u001b[0m\u001b[0mself\u001b[0m\u001b[0;34m.\u001b[0m\u001b[0moptions\u001b[0m\u001b[0;34m)\u001b[0m  \u001b[0;31m# type: ignore[call-arg]\u001b[0m\u001b[0;34m\u001b[0m\u001b[0;34m\u001b[0m\u001b[0m\n\u001b[0m\u001b[1;32m   1041\u001b[0m \u001b[0;34m\u001b[0m\u001b[0m\n\u001b[1;32m   1042\u001b[0m     \u001b[0;32mdef\u001b[0m \u001b[0m_failover_to_python\u001b[0m\u001b[0;34m(\u001b[0m\u001b[0mself\u001b[0m\u001b[0;34m)\u001b[0m\u001b[0;34m:\u001b[0m\u001b[0;34m\u001b[0m\u001b[0;34m\u001b[0m\u001b[0m\n",
            "\u001b[0;32m/usr/local/lib/python3.7/dist-packages/pandas/io/parsers/c_parser_wrapper.py\u001b[0m in \u001b[0;36m__init__\u001b[0;34m(self, src, **kwds)\u001b[0m\n\u001b[1;32m     49\u001b[0m \u001b[0;34m\u001b[0m\u001b[0m\n\u001b[1;32m     50\u001b[0m         \u001b[0;31m# open handles\u001b[0m\u001b[0;34m\u001b[0m\u001b[0;34m\u001b[0m\u001b[0;34m\u001b[0m\u001b[0m\n\u001b[0;32m---> 51\u001b[0;31m         \u001b[0mself\u001b[0m\u001b[0;34m.\u001b[0m\u001b[0m_open_handles\u001b[0m\u001b[0;34m(\u001b[0m\u001b[0msrc\u001b[0m\u001b[0;34m,\u001b[0m \u001b[0mkwds\u001b[0m\u001b[0;34m)\u001b[0m\u001b[0;34m\u001b[0m\u001b[0;34m\u001b[0m\u001b[0m\n\u001b[0m\u001b[1;32m     52\u001b[0m         \u001b[0;32massert\u001b[0m \u001b[0mself\u001b[0m\u001b[0;34m.\u001b[0m\u001b[0mhandles\u001b[0m \u001b[0;32mis\u001b[0m \u001b[0;32mnot\u001b[0m \u001b[0;32mNone\u001b[0m\u001b[0;34m\u001b[0m\u001b[0;34m\u001b[0m\u001b[0m\n\u001b[1;32m     53\u001b[0m \u001b[0;34m\u001b[0m\u001b[0m\n",
            "\u001b[0;32m/usr/local/lib/python3.7/dist-packages/pandas/io/parsers/base_parser.py\u001b[0m in \u001b[0;36m_open_handles\u001b[0;34m(self, src, kwds)\u001b[0m\n\u001b[1;32m    227\u001b[0m             \u001b[0mmemory_map\u001b[0m\u001b[0;34m=\u001b[0m\u001b[0mkwds\u001b[0m\u001b[0;34m.\u001b[0m\u001b[0mget\u001b[0m\u001b[0;34m(\u001b[0m\u001b[0;34m\"memory_map\"\u001b[0m\u001b[0;34m,\u001b[0m \u001b[0;32mFalse\u001b[0m\u001b[0;34m)\u001b[0m\u001b[0;34m,\u001b[0m\u001b[0;34m\u001b[0m\u001b[0;34m\u001b[0m\u001b[0m\n\u001b[1;32m    228\u001b[0m             \u001b[0mstorage_options\u001b[0m\u001b[0;34m=\u001b[0m\u001b[0mkwds\u001b[0m\u001b[0;34m.\u001b[0m\u001b[0mget\u001b[0m\u001b[0;34m(\u001b[0m\u001b[0;34m\"storage_options\"\u001b[0m\u001b[0;34m,\u001b[0m \u001b[0;32mNone\u001b[0m\u001b[0;34m)\u001b[0m\u001b[0;34m,\u001b[0m\u001b[0;34m\u001b[0m\u001b[0;34m\u001b[0m\u001b[0m\n\u001b[0;32m--> 229\u001b[0;31m             \u001b[0merrors\u001b[0m\u001b[0;34m=\u001b[0m\u001b[0mkwds\u001b[0m\u001b[0;34m.\u001b[0m\u001b[0mget\u001b[0m\u001b[0;34m(\u001b[0m\u001b[0;34m\"encoding_errors\"\u001b[0m\u001b[0;34m,\u001b[0m \u001b[0;34m\"strict\"\u001b[0m\u001b[0;34m)\u001b[0m\u001b[0;34m,\u001b[0m\u001b[0;34m\u001b[0m\u001b[0;34m\u001b[0m\u001b[0m\n\u001b[0m\u001b[1;32m    230\u001b[0m         )\n\u001b[1;32m    231\u001b[0m \u001b[0;34m\u001b[0m\u001b[0m\n",
            "\u001b[0;32m/usr/local/lib/python3.7/dist-packages/pandas/io/common.py\u001b[0m in \u001b[0;36mget_handle\u001b[0;34m(path_or_buf, mode, encoding, compression, memory_map, is_text, errors, storage_options)\u001b[0m\n\u001b[1;32m    705\u001b[0m                 \u001b[0mencoding\u001b[0m\u001b[0;34m=\u001b[0m\u001b[0mioargs\u001b[0m\u001b[0;34m.\u001b[0m\u001b[0mencoding\u001b[0m\u001b[0;34m,\u001b[0m\u001b[0;34m\u001b[0m\u001b[0;34m\u001b[0m\u001b[0m\n\u001b[1;32m    706\u001b[0m                 \u001b[0merrors\u001b[0m\u001b[0;34m=\u001b[0m\u001b[0merrors\u001b[0m\u001b[0;34m,\u001b[0m\u001b[0;34m\u001b[0m\u001b[0;34m\u001b[0m\u001b[0m\n\u001b[0;32m--> 707\u001b[0;31m                 \u001b[0mnewline\u001b[0m\u001b[0;34m=\u001b[0m\u001b[0;34m\"\"\u001b[0m\u001b[0;34m,\u001b[0m\u001b[0;34m\u001b[0m\u001b[0;34m\u001b[0m\u001b[0m\n\u001b[0m\u001b[1;32m    708\u001b[0m             )\n\u001b[1;32m    709\u001b[0m         \u001b[0;32melse\u001b[0m\u001b[0;34m:\u001b[0m\u001b[0;34m\u001b[0m\u001b[0;34m\u001b[0m\u001b[0m\n",
            "\u001b[0;31mFileNotFoundError\u001b[0m: [Errno 2] No such file or directory: 'NBA Data.csv'"
          ]
        }
      ]
    },
    {
      "cell_type": "code",
      "source": [
        "df[['Playoffs','W']]                            # select multiple columns by name (requires double brackets)\n",
        "df.groupby('Playoffs')['W'].mean()              # group by the column passed as argument, (optional) only returning column in brackets, with aggregation function applied\n",
        "df['PTSDiff'] = df['PTS'] - df['oppPTS']        # create a new column based on the specified logic (difference of two other columns)\n",
        "df.plot.scatter('PTSDiff','W')                  # create a scatterplot of x,y with optional s (size) and c (color)"
      ],
      "metadata": {
        "id": "kOYWGqdEDrxt"
      },
      "execution_count": null,
      "outputs": []
    },
    {
      "cell_type": "code",
      "source": [
        "x = df[['2PA','3PA','FTA','AST','ORB','DRB','TOV','STL']].values          # a 2d array is needed (either from multiple columns or using reshape)                          \n",
        "y = df['PTS'].values.reshape(-1,1)                                        # \"values\" takes the pandas series object and extracts a numpy array  \n",
        "x_train, x_test, y_train, y_test = train_test_split(x,y,test_size=0.25)   # split the data into train/test sets with 25% going to test\n",
        "lrm = LinearRegression()                                                  # initialize linear regression model\n",
        "points_reg = lrm.fit(x_train, y_train)                                    # train the model on the test data set\n",
        "print(f'alpha: {points_reg.intercept_}, \\nbetas: {points_reg.coef_}')"
      ],
      "metadata": {
        "id": "kHQT9UWXP3Yi"
      },
      "execution_count": null,
      "outputs": []
    },
    {
      "cell_type": "code",
      "source": [
        "points_pred = points_reg.predict(x_test)                                  # predict points based on the test dataset \n",
        "scores = {'RMSE':math.sqrt(metrics.mean_squared_error(y_test,points_pred)),'R2':metrics.r2_score(y_test,points_pred)}\n",
        "for score in scores:\n",
        "  print(f'{score}: {round(scores[score],2)}')"
      ],
      "metadata": {
        "id": "fbTB9ODQUNOD"
      },
      "execution_count": null,
      "outputs": []
    },
    {
      "cell_type": "code",
      "source": [
        "sm.OLS(y_train,sm.add_constant(x_train)).fit().summary2()                 # statsmodels provides the summary statistics that are lacking from sklearn\n",
        "                                                                          # \"add_constant\" is needed to ensure the regression has a constant"
      ],
      "metadata": {
        "id": "MgBrYWtQQ9zX"
      },
      "execution_count": null,
      "outputs": []
    },
    {
      "cell_type": "markdown",
      "source": [
        "# **Logistic Regression**"
      ],
      "metadata": {
        "id": "7zeykOfZXHZt"
      }
    },
    {
      "cell_type": "code",
      "source": [
        "df = pd.read_csv('Polling Data.csv')                 # open a csv file in pandas\n",
        "df.head(10)                                      # see header row and top rows (specified in argument)\n",
        "df.describe()"
      ],
      "metadata": {
        "colab": {
          "base_uri": "https://localhost:8080/",
          "height": 300
        },
        "id": "MdwI0IyXXJr-",
        "outputId": "c4880fce-549a-4361-ad68-984b109aba66"
      },
      "execution_count": null,
      "outputs": [
        {
          "output_type": "execute_result",
          "data": {
            "text/plain": [
              "              Year  Rasmussen  SurveyUSA   DiffCount       PropR  Republican\n",
              "count   145.000000  99.000000  74.000000  145.000000  145.000000  145.000000\n",
              "mean   2007.862069   0.040404  -0.824324   -1.268966    0.525943    0.510345\n",
              "std       3.245982  13.426990  14.257282    6.353318    0.466495    0.501626\n",
              "min    2004.000000 -41.000000 -33.000000  -19.000000    0.000000    0.000000\n",
              "25%    2004.000000  -8.000000 -11.750000   -6.000000    0.000000    0.000000\n",
              "50%    2008.000000   1.000000  -2.000000    1.000000    0.625000    1.000000\n",
              "75%    2012.000000   8.500000   8.000000    4.000000    1.000000    1.000000\n",
              "max    2012.000000  39.000000  30.000000   11.000000    1.000000    1.000000"
            ],
            "text/html": [
              "\n",
              "  <div id=\"df-5c5134e6-df20-44f5-ad58-55fe9a3d2744\">\n",
              "    <div class=\"colab-df-container\">\n",
              "      <div>\n",
              "<style scoped>\n",
              "    .dataframe tbody tr th:only-of-type {\n",
              "        vertical-align: middle;\n",
              "    }\n",
              "\n",
              "    .dataframe tbody tr th {\n",
              "        vertical-align: top;\n",
              "    }\n",
              "\n",
              "    .dataframe thead th {\n",
              "        text-align: right;\n",
              "    }\n",
              "</style>\n",
              "<table border=\"1\" class=\"dataframe\">\n",
              "  <thead>\n",
              "    <tr style=\"text-align: right;\">\n",
              "      <th></th>\n",
              "      <th>Year</th>\n",
              "      <th>Rasmussen</th>\n",
              "      <th>SurveyUSA</th>\n",
              "      <th>DiffCount</th>\n",
              "      <th>PropR</th>\n",
              "      <th>Republican</th>\n",
              "    </tr>\n",
              "  </thead>\n",
              "  <tbody>\n",
              "    <tr>\n",
              "      <th>count</th>\n",
              "      <td>145.000000</td>\n",
              "      <td>99.000000</td>\n",
              "      <td>74.000000</td>\n",
              "      <td>145.000000</td>\n",
              "      <td>145.000000</td>\n",
              "      <td>145.000000</td>\n",
              "    </tr>\n",
              "    <tr>\n",
              "      <th>mean</th>\n",
              "      <td>2007.862069</td>\n",
              "      <td>0.040404</td>\n",
              "      <td>-0.824324</td>\n",
              "      <td>-1.268966</td>\n",
              "      <td>0.525943</td>\n",
              "      <td>0.510345</td>\n",
              "    </tr>\n",
              "    <tr>\n",
              "      <th>std</th>\n",
              "      <td>3.245982</td>\n",
              "      <td>13.426990</td>\n",
              "      <td>14.257282</td>\n",
              "      <td>6.353318</td>\n",
              "      <td>0.466495</td>\n",
              "      <td>0.501626</td>\n",
              "    </tr>\n",
              "    <tr>\n",
              "      <th>min</th>\n",
              "      <td>2004.000000</td>\n",
              "      <td>-41.000000</td>\n",
              "      <td>-33.000000</td>\n",
              "      <td>-19.000000</td>\n",
              "      <td>0.000000</td>\n",
              "      <td>0.000000</td>\n",
              "    </tr>\n",
              "    <tr>\n",
              "      <th>25%</th>\n",
              "      <td>2004.000000</td>\n",
              "      <td>-8.000000</td>\n",
              "      <td>-11.750000</td>\n",
              "      <td>-6.000000</td>\n",
              "      <td>0.000000</td>\n",
              "      <td>0.000000</td>\n",
              "    </tr>\n",
              "    <tr>\n",
              "      <th>50%</th>\n",
              "      <td>2008.000000</td>\n",
              "      <td>1.000000</td>\n",
              "      <td>-2.000000</td>\n",
              "      <td>1.000000</td>\n",
              "      <td>0.625000</td>\n",
              "      <td>1.000000</td>\n",
              "    </tr>\n",
              "    <tr>\n",
              "      <th>75%</th>\n",
              "      <td>2012.000000</td>\n",
              "      <td>8.500000</td>\n",
              "      <td>8.000000</td>\n",
              "      <td>4.000000</td>\n",
              "      <td>1.000000</td>\n",
              "      <td>1.000000</td>\n",
              "    </tr>\n",
              "    <tr>\n",
              "      <th>max</th>\n",
              "      <td>2012.000000</td>\n",
              "      <td>39.000000</td>\n",
              "      <td>30.000000</td>\n",
              "      <td>11.000000</td>\n",
              "      <td>1.000000</td>\n",
              "      <td>1.000000</td>\n",
              "    </tr>\n",
              "  </tbody>\n",
              "</table>\n",
              "</div>\n",
              "      <button class=\"colab-df-convert\" onclick=\"convertToInteractive('df-5c5134e6-df20-44f5-ad58-55fe9a3d2744')\"\n",
              "              title=\"Convert this dataframe to an interactive table.\"\n",
              "              style=\"display:none;\">\n",
              "        \n",
              "  <svg xmlns=\"http://www.w3.org/2000/svg\" height=\"24px\"viewBox=\"0 0 24 24\"\n",
              "       width=\"24px\">\n",
              "    <path d=\"M0 0h24v24H0V0z\" fill=\"none\"/>\n",
              "    <path d=\"M18.56 5.44l.94 2.06.94-2.06 2.06-.94-2.06-.94-.94-2.06-.94 2.06-2.06.94zm-11 1L8.5 8.5l.94-2.06 2.06-.94-2.06-.94L8.5 2.5l-.94 2.06-2.06.94zm10 10l.94 2.06.94-2.06 2.06-.94-2.06-.94-.94-2.06-.94 2.06-2.06.94z\"/><path d=\"M17.41 7.96l-1.37-1.37c-.4-.4-.92-.59-1.43-.59-.52 0-1.04.2-1.43.59L10.3 9.45l-7.72 7.72c-.78.78-.78 2.05 0 2.83L4 21.41c.39.39.9.59 1.41.59.51 0 1.02-.2 1.41-.59l7.78-7.78 2.81-2.81c.8-.78.8-2.07 0-2.86zM5.41 20L4 18.59l7.72-7.72 1.47 1.35L5.41 20z\"/>\n",
              "  </svg>\n",
              "      </button>\n",
              "      \n",
              "  <style>\n",
              "    .colab-df-container {\n",
              "      display:flex;\n",
              "      flex-wrap:wrap;\n",
              "      gap: 12px;\n",
              "    }\n",
              "\n",
              "    .colab-df-convert {\n",
              "      background-color: #E8F0FE;\n",
              "      border: none;\n",
              "      border-radius: 50%;\n",
              "      cursor: pointer;\n",
              "      display: none;\n",
              "      fill: #1967D2;\n",
              "      height: 32px;\n",
              "      padding: 0 0 0 0;\n",
              "      width: 32px;\n",
              "    }\n",
              "\n",
              "    .colab-df-convert:hover {\n",
              "      background-color: #E2EBFA;\n",
              "      box-shadow: 0px 1px 2px rgba(60, 64, 67, 0.3), 0px 1px 3px 1px rgba(60, 64, 67, 0.15);\n",
              "      fill: #174EA6;\n",
              "    }\n",
              "\n",
              "    [theme=dark] .colab-df-convert {\n",
              "      background-color: #3B4455;\n",
              "      fill: #D2E3FC;\n",
              "    }\n",
              "\n",
              "    [theme=dark] .colab-df-convert:hover {\n",
              "      background-color: #434B5C;\n",
              "      box-shadow: 0px 1px 3px 1px rgba(0, 0, 0, 0.15);\n",
              "      filter: drop-shadow(0px 1px 2px rgba(0, 0, 0, 0.3));\n",
              "      fill: #FFFFFF;\n",
              "    }\n",
              "  </style>\n",
              "\n",
              "      <script>\n",
              "        const buttonEl =\n",
              "          document.querySelector('#df-5c5134e6-df20-44f5-ad58-55fe9a3d2744 button.colab-df-convert');\n",
              "        buttonEl.style.display =\n",
              "          google.colab.kernel.accessAllowed ? 'block' : 'none';\n",
              "\n",
              "        async function convertToInteractive(key) {\n",
              "          const element = document.querySelector('#df-5c5134e6-df20-44f5-ad58-55fe9a3d2744');\n",
              "          const dataTable =\n",
              "            await google.colab.kernel.invokeFunction('convertToInteractive',\n",
              "                                                     [key], {});\n",
              "          if (!dataTable) return;\n",
              "\n",
              "          const docLinkHtml = 'Like what you see? Visit the ' +\n",
              "            '<a target=\"_blank\" href=https://colab.research.google.com/notebooks/data_table.ipynb>data table notebook</a>'\n",
              "            + ' to learn more about interactive tables.';\n",
              "          element.innerHTML = '';\n",
              "          dataTable['output_type'] = 'display_data';\n",
              "          await google.colab.output.renderOutput(dataTable, element);\n",
              "          const docLink = document.createElement('div');\n",
              "          docLink.innerHTML = docLinkHtml;\n",
              "          element.appendChild(docLink);\n",
              "        }\n",
              "      </script>\n",
              "    </div>\n",
              "  </div>\n",
              "  "
            ]
          },
          "metadata": {},
          "execution_count": 3
        }
      ]
    },
    {
      "cell_type": "code",
      "source": [
        "df_indep = df[['Rasmussen','SurveyUSA','DiffCount','PropR']]        # isolate the independent variables so the imputation doesn't take into account the \"result\" variable\n",
        "knn = KNNImputer()                                                  # by default, targets \"np.nan\" as missing_values; can take number of neighbors to use for prediction (Default 5); copy of data created by default\n",
        "new = knn.fit_transform(df_indep[['Rasmussen','SurveyUSA']])        # fit and transform the KNN values in; if working only on one column, would have to reshape to a 2D array\n",
        "new = pd.DataFrame(new,columns=['Rasmussen','SurveyUSA'])           # transform back from np array into pd dataframe"
      ],
      "metadata": {
        "id": "q1_1kt_RZN-G"
      },
      "execution_count": null,
      "outputs": []
    },
    {
      "cell_type": "code",
      "source": [
        "df['Rasmussen'] = new['Rasmussen']\n",
        "df['SurveyUSA'] = new['SurveyUSA']\n",
        "df.describe()"
      ],
      "metadata": {
        "colab": {
          "base_uri": "https://localhost:8080/",
          "height": 300
        },
        "id": "f6sSza8Ccloj",
        "outputId": "004c21ab-2738-4f28-89ce-2e8dadfbf58a"
      },
      "execution_count": null,
      "outputs": [
        {
          "output_type": "execute_result",
          "data": {
            "text/plain": [
              "              Year   Rasmussen   SurveyUSA   DiffCount       PropR  Republican\n",
              "count   145.000000  145.000000  145.000000  145.000000  145.000000  145.000000\n",
              "mean   2007.862069    0.367259   -0.279683   -1.268966    0.525943    0.510345\n",
              "std       3.245982   11.737290   12.284499    6.353318    0.466495    0.501626\n",
              "min    2004.000000  -41.000000  -33.000000  -19.000000    0.000000    0.000000\n",
              "25%    2004.000000   -6.000000   -8.400000   -6.000000    0.000000    0.000000\n",
              "50%    2008.000000    0.040404   -0.824324    1.000000    0.625000    1.000000\n",
              "75%    2012.000000    7.000000    8.000000    4.000000    1.000000    1.000000\n",
              "max    2012.000000   39.000000   30.000000   11.000000    1.000000    1.000000"
            ],
            "text/html": [
              "\n",
              "  <div id=\"df-3a3b78bb-878e-4907-997e-246763c7df05\">\n",
              "    <div class=\"colab-df-container\">\n",
              "      <div>\n",
              "<style scoped>\n",
              "    .dataframe tbody tr th:only-of-type {\n",
              "        vertical-align: middle;\n",
              "    }\n",
              "\n",
              "    .dataframe tbody tr th {\n",
              "        vertical-align: top;\n",
              "    }\n",
              "\n",
              "    .dataframe thead th {\n",
              "        text-align: right;\n",
              "    }\n",
              "</style>\n",
              "<table border=\"1\" class=\"dataframe\">\n",
              "  <thead>\n",
              "    <tr style=\"text-align: right;\">\n",
              "      <th></th>\n",
              "      <th>Year</th>\n",
              "      <th>Rasmussen</th>\n",
              "      <th>SurveyUSA</th>\n",
              "      <th>DiffCount</th>\n",
              "      <th>PropR</th>\n",
              "      <th>Republican</th>\n",
              "    </tr>\n",
              "  </thead>\n",
              "  <tbody>\n",
              "    <tr>\n",
              "      <th>count</th>\n",
              "      <td>145.000000</td>\n",
              "      <td>145.000000</td>\n",
              "      <td>145.000000</td>\n",
              "      <td>145.000000</td>\n",
              "      <td>145.000000</td>\n",
              "      <td>145.000000</td>\n",
              "    </tr>\n",
              "    <tr>\n",
              "      <th>mean</th>\n",
              "      <td>2007.862069</td>\n",
              "      <td>0.367259</td>\n",
              "      <td>-0.279683</td>\n",
              "      <td>-1.268966</td>\n",
              "      <td>0.525943</td>\n",
              "      <td>0.510345</td>\n",
              "    </tr>\n",
              "    <tr>\n",
              "      <th>std</th>\n",
              "      <td>3.245982</td>\n",
              "      <td>11.737290</td>\n",
              "      <td>12.284499</td>\n",
              "      <td>6.353318</td>\n",
              "      <td>0.466495</td>\n",
              "      <td>0.501626</td>\n",
              "    </tr>\n",
              "    <tr>\n",
              "      <th>min</th>\n",
              "      <td>2004.000000</td>\n",
              "      <td>-41.000000</td>\n",
              "      <td>-33.000000</td>\n",
              "      <td>-19.000000</td>\n",
              "      <td>0.000000</td>\n",
              "      <td>0.000000</td>\n",
              "    </tr>\n",
              "    <tr>\n",
              "      <th>25%</th>\n",
              "      <td>2004.000000</td>\n",
              "      <td>-6.000000</td>\n",
              "      <td>-8.400000</td>\n",
              "      <td>-6.000000</td>\n",
              "      <td>0.000000</td>\n",
              "      <td>0.000000</td>\n",
              "    </tr>\n",
              "    <tr>\n",
              "      <th>50%</th>\n",
              "      <td>2008.000000</td>\n",
              "      <td>0.040404</td>\n",
              "      <td>-0.824324</td>\n",
              "      <td>1.000000</td>\n",
              "      <td>0.625000</td>\n",
              "      <td>1.000000</td>\n",
              "    </tr>\n",
              "    <tr>\n",
              "      <th>75%</th>\n",
              "      <td>2012.000000</td>\n",
              "      <td>7.000000</td>\n",
              "      <td>8.000000</td>\n",
              "      <td>4.000000</td>\n",
              "      <td>1.000000</td>\n",
              "      <td>1.000000</td>\n",
              "    </tr>\n",
              "    <tr>\n",
              "      <th>max</th>\n",
              "      <td>2012.000000</td>\n",
              "      <td>39.000000</td>\n",
              "      <td>30.000000</td>\n",
              "      <td>11.000000</td>\n",
              "      <td>1.000000</td>\n",
              "      <td>1.000000</td>\n",
              "    </tr>\n",
              "  </tbody>\n",
              "</table>\n",
              "</div>\n",
              "      <button class=\"colab-df-convert\" onclick=\"convertToInteractive('df-3a3b78bb-878e-4907-997e-246763c7df05')\"\n",
              "              title=\"Convert this dataframe to an interactive table.\"\n",
              "              style=\"display:none;\">\n",
              "        \n",
              "  <svg xmlns=\"http://www.w3.org/2000/svg\" height=\"24px\"viewBox=\"0 0 24 24\"\n",
              "       width=\"24px\">\n",
              "    <path d=\"M0 0h24v24H0V0z\" fill=\"none\"/>\n",
              "    <path d=\"M18.56 5.44l.94 2.06.94-2.06 2.06-.94-2.06-.94-.94-2.06-.94 2.06-2.06.94zm-11 1L8.5 8.5l.94-2.06 2.06-.94-2.06-.94L8.5 2.5l-.94 2.06-2.06.94zm10 10l.94 2.06.94-2.06 2.06-.94-2.06-.94-.94-2.06-.94 2.06-2.06.94z\"/><path d=\"M17.41 7.96l-1.37-1.37c-.4-.4-.92-.59-1.43-.59-.52 0-1.04.2-1.43.59L10.3 9.45l-7.72 7.72c-.78.78-.78 2.05 0 2.83L4 21.41c.39.39.9.59 1.41.59.51 0 1.02-.2 1.41-.59l7.78-7.78 2.81-2.81c.8-.78.8-2.07 0-2.86zM5.41 20L4 18.59l7.72-7.72 1.47 1.35L5.41 20z\"/>\n",
              "  </svg>\n",
              "      </button>\n",
              "      \n",
              "  <style>\n",
              "    .colab-df-container {\n",
              "      display:flex;\n",
              "      flex-wrap:wrap;\n",
              "      gap: 12px;\n",
              "    }\n",
              "\n",
              "    .colab-df-convert {\n",
              "      background-color: #E8F0FE;\n",
              "      border: none;\n",
              "      border-radius: 50%;\n",
              "      cursor: pointer;\n",
              "      display: none;\n",
              "      fill: #1967D2;\n",
              "      height: 32px;\n",
              "      padding: 0 0 0 0;\n",
              "      width: 32px;\n",
              "    }\n",
              "\n",
              "    .colab-df-convert:hover {\n",
              "      background-color: #E2EBFA;\n",
              "      box-shadow: 0px 1px 2px rgba(60, 64, 67, 0.3), 0px 1px 3px 1px rgba(60, 64, 67, 0.15);\n",
              "      fill: #174EA6;\n",
              "    }\n",
              "\n",
              "    [theme=dark] .colab-df-convert {\n",
              "      background-color: #3B4455;\n",
              "      fill: #D2E3FC;\n",
              "    }\n",
              "\n",
              "    [theme=dark] .colab-df-convert:hover {\n",
              "      background-color: #434B5C;\n",
              "      box-shadow: 0px 1px 3px 1px rgba(0, 0, 0, 0.15);\n",
              "      filter: drop-shadow(0px 1px 2px rgba(0, 0, 0, 0.3));\n",
              "      fill: #FFFFFF;\n",
              "    }\n",
              "  </style>\n",
              "\n",
              "      <script>\n",
              "        const buttonEl =\n",
              "          document.querySelector('#df-3a3b78bb-878e-4907-997e-246763c7df05 button.colab-df-convert');\n",
              "        buttonEl.style.display =\n",
              "          google.colab.kernel.accessAllowed ? 'block' : 'none';\n",
              "\n",
              "        async function convertToInteractive(key) {\n",
              "          const element = document.querySelector('#df-3a3b78bb-878e-4907-997e-246763c7df05');\n",
              "          const dataTable =\n",
              "            await google.colab.kernel.invokeFunction('convertToInteractive',\n",
              "                                                     [key], {});\n",
              "          if (!dataTable) return;\n",
              "\n",
              "          const docLinkHtml = 'Like what you see? Visit the ' +\n",
              "            '<a target=\"_blank\" href=https://colab.research.google.com/notebooks/data_table.ipynb>data table notebook</a>'\n",
              "            + ' to learn more about interactive tables.';\n",
              "          element.innerHTML = '';\n",
              "          dataTable['output_type'] = 'display_data';\n",
              "          await google.colab.output.renderOutput(dataTable, element);\n",
              "          const docLink = document.createElement('div');\n",
              "          docLink.innerHTML = docLinkHtml;\n",
              "          element.appendChild(docLink);\n",
              "        }\n",
              "      </script>\n",
              "    </div>\n",
              "  </div>\n",
              "  "
            ]
          },
          "metadata": {},
          "execution_count": 5
        }
      ]
    },
    {
      "cell_type": "code",
      "source": [
        "train = df.loc[df['Year'].isin([2004,2008])]              # select rows where column value matches specific values\n",
        "test = df.loc[df['Year'] == 2012]"
      ],
      "metadata": {
        "id": "5BU0j-iMfAeQ"
      },
      "execution_count": null,
      "outputs": []
    },
    {
      "cell_type": "code",
      "source": [
        "ras_sign = np.sign(train['Rasmussen']).values                              # return the sign of the value in the column\n",
        "ras_sign = pd.DataFrame(ras_sign,columns=['Rasmussen Sign'])\n",
        "train2 = pd.concat([ras_sign.reset_index(),train.reset_index()],axis=1)    # join two dataframes along axis 1 (columns/side by side); reset index may be needed\n",
        "train2.groupby(['Rasmussen Sign','Republican']).count()                    # FIX THIS"
      ],
      "metadata": {
        "colab": {
          "base_uri": "https://localhost:8080/",
          "height": 237
        },
        "id": "_H26AmzDH2N1",
        "outputId": "7ba001a1-def8-4526-cfdc-2482b33ab12f"
      },
      "execution_count": null,
      "outputs": [
        {
          "output_type": "execute_result",
          "data": {
            "text/plain": [
              "                           index  index  State  Year  Rasmussen  SurveyUSA  \\\n",
              "Rasmussen Sign Republican                                                    \n",
              "-1.0           0              37     37     37    37         37         37   \n",
              " 0.0           0               1      1      1     1          1          1   \n",
              "               1               1      1      1     1          1          1   \n",
              " 1.0           0               9      9      9     9          9          9   \n",
              "               1              52     52     52    52         52         52   \n",
              "\n",
              "                           DiffCount  PropR  \n",
              "Rasmussen Sign Republican                    \n",
              "-1.0           0                  37     37  \n",
              " 0.0           0                   1      1  \n",
              "               1                   1      1  \n",
              " 1.0           0                   9      9  \n",
              "               1                  52     52  "
            ],
            "text/html": [
              "\n",
              "  <div id=\"df-e8bd0f5a-cad2-4319-8e8b-9c3ef150a788\">\n",
              "    <div class=\"colab-df-container\">\n",
              "      <div>\n",
              "<style scoped>\n",
              "    .dataframe tbody tr th:only-of-type {\n",
              "        vertical-align: middle;\n",
              "    }\n",
              "\n",
              "    .dataframe tbody tr th {\n",
              "        vertical-align: top;\n",
              "    }\n",
              "\n",
              "    .dataframe thead th {\n",
              "        text-align: right;\n",
              "    }\n",
              "</style>\n",
              "<table border=\"1\" class=\"dataframe\">\n",
              "  <thead>\n",
              "    <tr style=\"text-align: right;\">\n",
              "      <th></th>\n",
              "      <th></th>\n",
              "      <th>index</th>\n",
              "      <th>index</th>\n",
              "      <th>State</th>\n",
              "      <th>Year</th>\n",
              "      <th>Rasmussen</th>\n",
              "      <th>SurveyUSA</th>\n",
              "      <th>DiffCount</th>\n",
              "      <th>PropR</th>\n",
              "    </tr>\n",
              "    <tr>\n",
              "      <th>Rasmussen Sign</th>\n",
              "      <th>Republican</th>\n",
              "      <th></th>\n",
              "      <th></th>\n",
              "      <th></th>\n",
              "      <th></th>\n",
              "      <th></th>\n",
              "      <th></th>\n",
              "      <th></th>\n",
              "      <th></th>\n",
              "    </tr>\n",
              "  </thead>\n",
              "  <tbody>\n",
              "    <tr>\n",
              "      <th>-1.0</th>\n",
              "      <th>0</th>\n",
              "      <td>37</td>\n",
              "      <td>37</td>\n",
              "      <td>37</td>\n",
              "      <td>37</td>\n",
              "      <td>37</td>\n",
              "      <td>37</td>\n",
              "      <td>37</td>\n",
              "      <td>37</td>\n",
              "    </tr>\n",
              "    <tr>\n",
              "      <th rowspan=\"2\" valign=\"top\">0.0</th>\n",
              "      <th>0</th>\n",
              "      <td>1</td>\n",
              "      <td>1</td>\n",
              "      <td>1</td>\n",
              "      <td>1</td>\n",
              "      <td>1</td>\n",
              "      <td>1</td>\n",
              "      <td>1</td>\n",
              "      <td>1</td>\n",
              "    </tr>\n",
              "    <tr>\n",
              "      <th>1</th>\n",
              "      <td>1</td>\n",
              "      <td>1</td>\n",
              "      <td>1</td>\n",
              "      <td>1</td>\n",
              "      <td>1</td>\n",
              "      <td>1</td>\n",
              "      <td>1</td>\n",
              "      <td>1</td>\n",
              "    </tr>\n",
              "    <tr>\n",
              "      <th rowspan=\"2\" valign=\"top\">1.0</th>\n",
              "      <th>0</th>\n",
              "      <td>9</td>\n",
              "      <td>9</td>\n",
              "      <td>9</td>\n",
              "      <td>9</td>\n",
              "      <td>9</td>\n",
              "      <td>9</td>\n",
              "      <td>9</td>\n",
              "      <td>9</td>\n",
              "    </tr>\n",
              "    <tr>\n",
              "      <th>1</th>\n",
              "      <td>52</td>\n",
              "      <td>52</td>\n",
              "      <td>52</td>\n",
              "      <td>52</td>\n",
              "      <td>52</td>\n",
              "      <td>52</td>\n",
              "      <td>52</td>\n",
              "      <td>52</td>\n",
              "    </tr>\n",
              "  </tbody>\n",
              "</table>\n",
              "</div>\n",
              "      <button class=\"colab-df-convert\" onclick=\"convertToInteractive('df-e8bd0f5a-cad2-4319-8e8b-9c3ef150a788')\"\n",
              "              title=\"Convert this dataframe to an interactive table.\"\n",
              "              style=\"display:none;\">\n",
              "        \n",
              "  <svg xmlns=\"http://www.w3.org/2000/svg\" height=\"24px\"viewBox=\"0 0 24 24\"\n",
              "       width=\"24px\">\n",
              "    <path d=\"M0 0h24v24H0V0z\" fill=\"none\"/>\n",
              "    <path d=\"M18.56 5.44l.94 2.06.94-2.06 2.06-.94-2.06-.94-.94-2.06-.94 2.06-2.06.94zm-11 1L8.5 8.5l.94-2.06 2.06-.94-2.06-.94L8.5 2.5l-.94 2.06-2.06.94zm10 10l.94 2.06.94-2.06 2.06-.94-2.06-.94-.94-2.06-.94 2.06-2.06.94z\"/><path d=\"M17.41 7.96l-1.37-1.37c-.4-.4-.92-.59-1.43-.59-.52 0-1.04.2-1.43.59L10.3 9.45l-7.72 7.72c-.78.78-.78 2.05 0 2.83L4 21.41c.39.39.9.59 1.41.59.51 0 1.02-.2 1.41-.59l7.78-7.78 2.81-2.81c.8-.78.8-2.07 0-2.86zM5.41 20L4 18.59l7.72-7.72 1.47 1.35L5.41 20z\"/>\n",
              "  </svg>\n",
              "      </button>\n",
              "      \n",
              "  <style>\n",
              "    .colab-df-container {\n",
              "      display:flex;\n",
              "      flex-wrap:wrap;\n",
              "      gap: 12px;\n",
              "    }\n",
              "\n",
              "    .colab-df-convert {\n",
              "      background-color: #E8F0FE;\n",
              "      border: none;\n",
              "      border-radius: 50%;\n",
              "      cursor: pointer;\n",
              "      display: none;\n",
              "      fill: #1967D2;\n",
              "      height: 32px;\n",
              "      padding: 0 0 0 0;\n",
              "      width: 32px;\n",
              "    }\n",
              "\n",
              "    .colab-df-convert:hover {\n",
              "      background-color: #E2EBFA;\n",
              "      box-shadow: 0px 1px 2px rgba(60, 64, 67, 0.3), 0px 1px 3px 1px rgba(60, 64, 67, 0.15);\n",
              "      fill: #174EA6;\n",
              "    }\n",
              "\n",
              "    [theme=dark] .colab-df-convert {\n",
              "      background-color: #3B4455;\n",
              "      fill: #D2E3FC;\n",
              "    }\n",
              "\n",
              "    [theme=dark] .colab-df-convert:hover {\n",
              "      background-color: #434B5C;\n",
              "      box-shadow: 0px 1px 3px 1px rgba(0, 0, 0, 0.15);\n",
              "      filter: drop-shadow(0px 1px 2px rgba(0, 0, 0, 0.3));\n",
              "      fill: #FFFFFF;\n",
              "    }\n",
              "  </style>\n",
              "\n",
              "      <script>\n",
              "        const buttonEl =\n",
              "          document.querySelector('#df-e8bd0f5a-cad2-4319-8e8b-9c3ef150a788 button.colab-df-convert');\n",
              "        buttonEl.style.display =\n",
              "          google.colab.kernel.accessAllowed ? 'block' : 'none';\n",
              "\n",
              "        async function convertToInteractive(key) {\n",
              "          const element = document.querySelector('#df-e8bd0f5a-cad2-4319-8e8b-9c3ef150a788');\n",
              "          const dataTable =\n",
              "            await google.colab.kernel.invokeFunction('convertToInteractive',\n",
              "                                                     [key], {});\n",
              "          if (!dataTable) return;\n",
              "\n",
              "          const docLinkHtml = 'Like what you see? Visit the ' +\n",
              "            '<a target=\"_blank\" href=https://colab.research.google.com/notebooks/data_table.ipynb>data table notebook</a>'\n",
              "            + ' to learn more about interactive tables.';\n",
              "          element.innerHTML = '';\n",
              "          dataTable['output_type'] = 'display_data';\n",
              "          await google.colab.output.renderOutput(dataTable, element);\n",
              "          const docLink = document.createElement('div');\n",
              "          docLink.innerHTML = docLinkHtml;\n",
              "          element.appendChild(docLink);\n",
              "        }\n",
              "      </script>\n",
              "    </div>\n",
              "  </div>\n",
              "  "
            ]
          },
          "metadata": {},
          "execution_count": 54
        }
      ]
    },
    {
      "cell_type": "code",
      "source": [
        "train[['Rasmussen','SurveyUSA','PropR','DiffCount','Republican']].corr()                                       # compute a correlation matrix"
      ],
      "metadata": {
        "colab": {
          "base_uri": "https://localhost:8080/",
          "height": 206
        },
        "id": "v91ICrtjO7v0",
        "outputId": "cad13056-6c51-4761-a42a-be3060f2e64c"
      },
      "execution_count": null,
      "outputs": [
        {
          "output_type": "execute_result",
          "data": {
            "text/plain": [
              "            Rasmussen  SurveyUSA     PropR  DiffCount  Republican\n",
              "Rasmussen    1.000000   0.922902  0.751986   0.516330    0.721995\n",
              "SurveyUSA    0.922902   1.000000  0.800977   0.590371    0.766993\n",
              "PropR        0.751986   0.800977  1.000000   0.827379    0.948420\n",
              "DiffCount    0.516330   0.590371  0.827379   1.000000    0.809278\n",
              "Republican   0.721995   0.766993  0.948420   0.809278    1.000000"
            ],
            "text/html": [
              "\n",
              "  <div id=\"df-ef1bcf64-8bee-4c51-ac4e-08a70ef60653\">\n",
              "    <div class=\"colab-df-container\">\n",
              "      <div>\n",
              "<style scoped>\n",
              "    .dataframe tbody tr th:only-of-type {\n",
              "        vertical-align: middle;\n",
              "    }\n",
              "\n",
              "    .dataframe tbody tr th {\n",
              "        vertical-align: top;\n",
              "    }\n",
              "\n",
              "    .dataframe thead th {\n",
              "        text-align: right;\n",
              "    }\n",
              "</style>\n",
              "<table border=\"1\" class=\"dataframe\">\n",
              "  <thead>\n",
              "    <tr style=\"text-align: right;\">\n",
              "      <th></th>\n",
              "      <th>Rasmussen</th>\n",
              "      <th>SurveyUSA</th>\n",
              "      <th>PropR</th>\n",
              "      <th>DiffCount</th>\n",
              "      <th>Republican</th>\n",
              "    </tr>\n",
              "  </thead>\n",
              "  <tbody>\n",
              "    <tr>\n",
              "      <th>Rasmussen</th>\n",
              "      <td>1.000000</td>\n",
              "      <td>0.922902</td>\n",
              "      <td>0.751986</td>\n",
              "      <td>0.516330</td>\n",
              "      <td>0.721995</td>\n",
              "    </tr>\n",
              "    <tr>\n",
              "      <th>SurveyUSA</th>\n",
              "      <td>0.922902</td>\n",
              "      <td>1.000000</td>\n",
              "      <td>0.800977</td>\n",
              "      <td>0.590371</td>\n",
              "      <td>0.766993</td>\n",
              "    </tr>\n",
              "    <tr>\n",
              "      <th>PropR</th>\n",
              "      <td>0.751986</td>\n",
              "      <td>0.800977</td>\n",
              "      <td>1.000000</td>\n",
              "      <td>0.827379</td>\n",
              "      <td>0.948420</td>\n",
              "    </tr>\n",
              "    <tr>\n",
              "      <th>DiffCount</th>\n",
              "      <td>0.516330</td>\n",
              "      <td>0.590371</td>\n",
              "      <td>0.827379</td>\n",
              "      <td>1.000000</td>\n",
              "      <td>0.809278</td>\n",
              "    </tr>\n",
              "    <tr>\n",
              "      <th>Republican</th>\n",
              "      <td>0.721995</td>\n",
              "      <td>0.766993</td>\n",
              "      <td>0.948420</td>\n",
              "      <td>0.809278</td>\n",
              "      <td>1.000000</td>\n",
              "    </tr>\n",
              "  </tbody>\n",
              "</table>\n",
              "</div>\n",
              "      <button class=\"colab-df-convert\" onclick=\"convertToInteractive('df-ef1bcf64-8bee-4c51-ac4e-08a70ef60653')\"\n",
              "              title=\"Convert this dataframe to an interactive table.\"\n",
              "              style=\"display:none;\">\n",
              "        \n",
              "  <svg xmlns=\"http://www.w3.org/2000/svg\" height=\"24px\"viewBox=\"0 0 24 24\"\n",
              "       width=\"24px\">\n",
              "    <path d=\"M0 0h24v24H0V0z\" fill=\"none\"/>\n",
              "    <path d=\"M18.56 5.44l.94 2.06.94-2.06 2.06-.94-2.06-.94-.94-2.06-.94 2.06-2.06.94zm-11 1L8.5 8.5l.94-2.06 2.06-.94-2.06-.94L8.5 2.5l-.94 2.06-2.06.94zm10 10l.94 2.06.94-2.06 2.06-.94-2.06-.94-.94-2.06-.94 2.06-2.06.94z\"/><path d=\"M17.41 7.96l-1.37-1.37c-.4-.4-.92-.59-1.43-.59-.52 0-1.04.2-1.43.59L10.3 9.45l-7.72 7.72c-.78.78-.78 2.05 0 2.83L4 21.41c.39.39.9.59 1.41.59.51 0 1.02-.2 1.41-.59l7.78-7.78 2.81-2.81c.8-.78.8-2.07 0-2.86zM5.41 20L4 18.59l7.72-7.72 1.47 1.35L5.41 20z\"/>\n",
              "  </svg>\n",
              "      </button>\n",
              "      \n",
              "  <style>\n",
              "    .colab-df-container {\n",
              "      display:flex;\n",
              "      flex-wrap:wrap;\n",
              "      gap: 12px;\n",
              "    }\n",
              "\n",
              "    .colab-df-convert {\n",
              "      background-color: #E8F0FE;\n",
              "      border: none;\n",
              "      border-radius: 50%;\n",
              "      cursor: pointer;\n",
              "      display: none;\n",
              "      fill: #1967D2;\n",
              "      height: 32px;\n",
              "      padding: 0 0 0 0;\n",
              "      width: 32px;\n",
              "    }\n",
              "\n",
              "    .colab-df-convert:hover {\n",
              "      background-color: #E2EBFA;\n",
              "      box-shadow: 0px 1px 2px rgba(60, 64, 67, 0.3), 0px 1px 3px 1px rgba(60, 64, 67, 0.15);\n",
              "      fill: #174EA6;\n",
              "    }\n",
              "\n",
              "    [theme=dark] .colab-df-convert {\n",
              "      background-color: #3B4455;\n",
              "      fill: #D2E3FC;\n",
              "    }\n",
              "\n",
              "    [theme=dark] .colab-df-convert:hover {\n",
              "      background-color: #434B5C;\n",
              "      box-shadow: 0px 1px 3px 1px rgba(0, 0, 0, 0.15);\n",
              "      filter: drop-shadow(0px 1px 2px rgba(0, 0, 0, 0.3));\n",
              "      fill: #FFFFFF;\n",
              "    }\n",
              "  </style>\n",
              "\n",
              "      <script>\n",
              "        const buttonEl =\n",
              "          document.querySelector('#df-ef1bcf64-8bee-4c51-ac4e-08a70ef60653 button.colab-df-convert');\n",
              "        buttonEl.style.display =\n",
              "          google.colab.kernel.accessAllowed ? 'block' : 'none';\n",
              "\n",
              "        async function convertToInteractive(key) {\n",
              "          const element = document.querySelector('#df-ef1bcf64-8bee-4c51-ac4e-08a70ef60653');\n",
              "          const dataTable =\n",
              "            await google.colab.kernel.invokeFunction('convertToInteractive',\n",
              "                                                     [key], {});\n",
              "          if (!dataTable) return;\n",
              "\n",
              "          const docLinkHtml = 'Like what you see? Visit the ' +\n",
              "            '<a target=\"_blank\" href=https://colab.research.google.com/notebooks/data_table.ipynb>data table notebook</a>'\n",
              "            + ' to learn more about interactive tables.';\n",
              "          element.innerHTML = '';\n",
              "          dataTable['output_type'] = 'display_data';\n",
              "          await google.colab.output.renderOutput(dataTable, element);\n",
              "          const docLink = document.createElement('div');\n",
              "          docLink.innerHTML = docLinkHtml;\n",
              "          element.appendChild(docLink);\n",
              "        }\n",
              "      </script>\n",
              "    </div>\n",
              "  </div>\n",
              "  "
            ]
          },
          "metadata": {},
          "execution_count": 57
        }
      ]
    },
    {
      "cell_type": "code",
      "source": [
        "reg = LogisticRegression()                                           # create an instance of a LogisticRegression object\n",
        "reg.fit(train['PropR'].values.reshape(-1,1),train['Republican'])     # takes 2D arrays for x\n",
        "y_pred = reg.predict(test['PropR'].values.reshape(-1,1))             # takes 2D arrays for x\n",
        "y_true = test['Republican']\n",
        "print(f'Model: Accuracy: {metrics.accuracy_score(y_true,y_pred)}, precision: {metrics.average_precision_score(y_true,y_pred)}')\n",
        "print(metrics.confusion_matrix(y_true,y_pred))                       # confusion matrix"
      ],
      "metadata": {
        "colab": {
          "base_uri": "https://localhost:8080/"
        },
        "id": "dzEDz19fPWb4",
        "outputId": "408d37c0-43b2-4228-9e82-5de2e750a9a4"
      },
      "execution_count": null,
      "outputs": [
        {
          "output_type": "stream",
          "name": "stdout",
          "text": [
            "Model: Accuracy: 0.9777777777777777, precision: 0.9545454545454546\n",
            "[[23  1]\n",
            " [ 0 21]]\n"
          ]
        }
      ]
    },
    {
      "cell_type": "code",
      "source": [
        "logit_train = train['PropR']\n",
        "sm.Logit(train['Republican'],sm.add_constant(logit_train)).fit().summary2()"
      ],
      "metadata": {
        "colab": {
          "base_uri": "https://localhost:8080/",
          "height": 365
        },
        "id": "cMbpxYiCTMut",
        "outputId": "40ff8930-971d-4116-df7b-59123ce62d94"
      },
      "execution_count": null,
      "outputs": [
        {
          "output_type": "stream",
          "name": "stdout",
          "text": [
            "Optimization terminated successfully.\n",
            "         Current function value: 0.078862\n",
            "         Iterations 9\n"
          ]
        },
        {
          "output_type": "stream",
          "name": "stderr",
          "text": [
            "/usr/local/lib/python3.7/dist-packages/statsmodels/tsa/tsatools.py:117: FutureWarning: In a future version of pandas all arguments of concat except for the argument 'objs' will be keyword-only\n",
            "  x = pd.concat(x[::order], 1)\n"
          ]
        },
        {
          "output_type": "execute_result",
          "data": {
            "text/plain": [
              "<class 'statsmodels.iolib.summary2.Summary'>\n",
              "\"\"\"\n",
              "                         Results: Logit\n",
              "=================================================================\n",
              "Model:              Logit            Pseudo R-squared: 0.886     \n",
              "Dependent Variable: Republican       AIC:              19.7723   \n",
              "Date:               2022-04-30 02:36 BIC:              24.9827   \n",
              "No. Observations:   100              Log-Likelihood:   -7.8862   \n",
              "Df Model:           1                LL-Null:          -69.135   \n",
              "Df Residuals:       98               LLR p-value:      1.7970e-28\n",
              "Converged:          1.0000           Scale:            1.0000    \n",
              "No. Iterations:     9.0000                                       \n",
              "-------------------------------------------------------------------\n",
              "          Coef.    Std.Err.      z      P>|z|     [0.025     0.975]\n",
              "-------------------------------------------------------------------\n",
              "const    -6.1462     1.9773   -3.1083   0.0019   -10.0217   -2.2707\n",
              "PropR    11.3904     3.1525    3.6131   0.0003     5.2116   17.5693\n",
              "=================================================================\n",
              "\n",
              "\"\"\""
            ],
            "text/html": [
              "<table class=\"simpletable\">\n",
              "<tr>\n",
              "        <td>Model:</td>              <td>Logit</td>      <td>Pseudo R-squared:</td>    <td>0.886</td>  \n",
              "</tr>\n",
              "<tr>\n",
              "  <td>Dependent Variable:</td>    <td>Republican</td>          <td>AIC:</td>          <td>19.7723</td> \n",
              "</tr>\n",
              "<tr>\n",
              "         <td>Date:</td>        <td>2022-04-30 02:36</td>       <td>BIC:</td>          <td>24.9827</td> \n",
              "</tr>\n",
              "<tr>\n",
              "   <td>No. Observations:</td>         <td>100</td>        <td>Log-Likelihood:</td>    <td>-7.8862</td> \n",
              "</tr>\n",
              "<tr>\n",
              "       <td>Df Model:</td>              <td>1</td>            <td>LL-Null:</td>        <td>-69.135</td> \n",
              "</tr>\n",
              "<tr>\n",
              "     <td>Df Residuals:</td>           <td>98</td>          <td>LLR p-value:</td>    <td>1.7970e-28</td>\n",
              "</tr>\n",
              "<tr>\n",
              "      <td>Converged:</td>           <td>1.0000</td>           <td>Scale:</td>         <td>1.0000</td>  \n",
              "</tr>\n",
              "<tr>\n",
              "    <td>No. Iterations:</td>        <td>9.0000</td>              <td></td>               <td></td>     \n",
              "</tr>\n",
              "</table>\n",
              "<table class=\"simpletable\">\n",
              "<tr>\n",
              "    <td></td>     <th>Coef.</th>  <th>Std.Err.</th>    <th>z</th>     <th>P>|z|</th>  <th>[0.025</th>  <th>0.975]</th> \n",
              "</tr>\n",
              "<tr>\n",
              "  <th>const</th> <td>-6.1462</td>  <td>1.9773</td>  <td>-3.1083</td> <td>0.0019</td> <td>-10.0217</td> <td>-2.2707</td>\n",
              "</tr>\n",
              "<tr>\n",
              "  <th>PropR</th> <td>11.3904</td>  <td>3.1525</td>  <td>3.6131</td>  <td>0.0003</td>  <td>5.2116</td>  <td>17.5693</td>\n",
              "</tr>\n",
              "</table>"
            ]
          },
          "metadata": {},
          "execution_count": 93
        }
      ]
    },
    {
      "cell_type": "markdown",
      "source": [
        "# **Classification and Regression Trees (CART)**"
      ],
      "metadata": {
        "id": "PRHcjC-qKjvW"
      }
    },
    {
      "cell_type": "code",
      "source": [
        "df = pd.read_csv('Stevens Judge.csv')                 # open a csv file in pandas\n",
        "df.info()                                             # high level overview of columns, type and data counts"
      ],
      "metadata": {
        "colab": {
          "base_uri": "https://localhost:8080/"
        },
        "id": "zaTINNqZKg7l",
        "outputId": "25efc6b8-e3a6-4f53-b535-c122efb7ab73"
      },
      "execution_count": null,
      "outputs": [
        {
          "output_type": "stream",
          "name": "stdout",
          "text": [
            "<class 'pandas.core.frame.DataFrame'>\n",
            "RangeIndex: 566 entries, 0 to 565\n",
            "Data columns (total 9 columns):\n",
            " #   Column      Non-Null Count  Dtype \n",
            "---  ------      --------------  ----- \n",
            " 0   Docket      566 non-null    object\n",
            " 1   Term        566 non-null    int64 \n",
            " 2   Circuit     566 non-null    object\n",
            " 3   Issue       566 non-null    object\n",
            " 4   Petitioner  566 non-null    object\n",
            " 5   Respondent  566 non-null    object\n",
            " 6   LowerCourt  566 non-null    object\n",
            " 7   Unconst     566 non-null    int64 \n",
            " 8   Reverse     566 non-null    int64 \n",
            "dtypes: int64(3), object(6)\n",
            "memory usage: 39.9+ KB\n"
          ]
        }
      ]
    },
    {
      "cell_type": "markdown",
      "source": [
        "*OneHot Encoding*: good for unordered variables - each label will be converted to binary variables (e.g. dog, cat, turtle) that are either on or off. This will also make the variable count grow.\n",
        "\n",
        "*Label Encoding*: good for ordinal variables - each label will be converted to ascending integers, so there will be an order imposed (e.g. child, teenager, YA, adult)"
      ],
      "metadata": {
        "id": "MWIjinCZOsOi"
      }
    },
    {
      "cell_type": "code",
      "source": [
        "df['Circuit'].unique()                                    # get unique values from a column\n",
        "indep_var = df.iloc[:,2:8]                                # iloc provides integer location based indexing for selection by position (like numpy arrays)  \n",
        "indep_var = pd.get_dummies(indep_var)                     # get dummies is the same as OneHot ENcoding in sklearn "
      ],
      "metadata": {
        "id": "yp3G-LeePTeE"
      },
      "execution_count": null,
      "outputs": []
    },
    {
      "cell_type": "code",
      "source": [
        "x = indep_var                       \n",
        "y = df['Reverse']\n",
        "x_train, x_test, y_train, y_test = train_test_split(x,y,test_size=0.3)"
      ],
      "metadata": {
        "id": "lImtcPCOLOeV"
      },
      "execution_count": null,
      "outputs": []
    },
    {
      "cell_type": "code",
      "source": [
        "dtc = DecisionTreeClassifier(min_samples_leaf=30)      # create an instance of the DTC class object; arguments are passed to when creating the instance\n",
        "model = dtc.fit(x_train,y_train)                       # train the model using training data; does not accept strings \n",
        "y_pred = dtc.predict(x_test)                           # create classification predictions using the test data\n",
        "y_score = model.predict_proba(x_test)                  # create probability of classification prredictions using test data"
      ],
      "metadata": {
        "id": "9uBl2ujaLvd2"
      },
      "execution_count": null,
      "outputs": []
    },
    {
      "cell_type": "code",
      "source": [
        "fig = plt.figure(figsize=(25,25))                                     # create a space of size 25,25 for a graph  \n",
        "plot_tree(model, fontsize=10, feature_names=x_train.columns.values)   # plot the model in the tree within that figure space"
      ],
      "metadata": {
        "colab": {
          "base_uri": "https://localhost:8080/",
          "height": 1000
        },
        "id": "s8Cp-K2jVFZt",
        "outputId": "4eb4c2d5-36fd-4c45-9f80-af0cecff18b2"
      },
      "execution_count": null,
      "outputs": [
        {
          "output_type": "execute_result",
          "data": {
            "text/plain": [
              "[Text(0.6, 0.9, 'LowerCourt_liberal <= 0.5\\ngini = 0.499\\nsamples = 396\\nvalue = [190, 206]'),\n",
              " Text(0.4, 0.7, 'Respondent_STATE <= 0.5\\ngini = 0.44\\nsamples = 196\\nvalue = [64, 132]'),\n",
              " Text(0.3, 0.5, 'Respondent_US <= 0.5\\ngini = 0.462\\nsamples = 166\\nvalue = [60, 106]'),\n",
              " Text(0.2, 0.3, 'Petitioner_OTHER <= 0.5\\ngini = 0.441\\nsamples = 125\\nvalue = [41, 84]'),\n",
              " Text(0.1, 0.1, 'gini = 0.451\\nsamples = 70\\nvalue = [24, 46]'),\n",
              " Text(0.3, 0.1, 'gini = 0.427\\nsamples = 55\\nvalue = [17, 38]'),\n",
              " Text(0.4, 0.3, 'gini = 0.497\\nsamples = 41\\nvalue = [19, 22]'),\n",
              " Text(0.5, 0.5, 'gini = 0.231\\nsamples = 30\\nvalue = [4, 26]'),\n",
              " Text(0.8, 0.7, 'Issue_CriminalProcedure <= 0.5\\ngini = 0.466\\nsamples = 200\\nvalue = [126, 74]'),\n",
              " Text(0.7, 0.5, 'Circuit_9th <= 0.5\\ngini = 0.479\\nsamples = 164\\nvalue = [99, 65]'),\n",
              " Text(0.6, 0.3, 'Respondent_OTHER <= 0.5\\ngini = 0.463\\nsamples = 121\\nvalue = [77, 44]'),\n",
              " Text(0.5, 0.1, 'gini = 0.426\\nsamples = 65\\nvalue = [45, 20]'),\n",
              " Text(0.7, 0.1, 'gini = 0.49\\nsamples = 56\\nvalue = [32, 24]'),\n",
              " Text(0.8, 0.3, 'gini = 0.5\\nsamples = 43\\nvalue = [22, 21]'),\n",
              " Text(0.9, 0.5, 'gini = 0.375\\nsamples = 36\\nvalue = [27, 9]')]"
            ]
          },
          "metadata": {},
          "execution_count": 95
        },
        {
          "output_type": "display_data",
          "data": {
            "text/plain": [
              "<Figure size 1800x1800 with 1 Axes>"
            ],
            "image/png": "[encoded data removed]"
          },
          "metadata": {
            "needs_background": "light"
          }
        }
      ]
    },
    {
      "cell_type": "code",
      "source": [
        "print(f'ROC AUC score: {metrics.roc_auc_score(y_test,y_pred)}')       # calculate the roc score\n",
        "fpr,tpr,_ = metrics.roc_curve(y_test,y_pred)                          # get the lines for False Positive Rate, True Positive Rate\n",
        "plt.plot(fpr,tpr)                                                     # plot the FPR and TPR\n",
        "plt.xlabel('FPR')\n",
        "plt.ylabel('TPR')\n",
        "plt.title('ROC Curve')\n",
        "plt.show()"
      ],
      "metadata": {
        "colab": {
          "base_uri": "https://localhost:8080/",
          "height": 314
        },
        "id": "3tZUA1wLaF0_",
        "outputId": "dd4fcf96-b3b8-453e-afe6-a282b29abfd4"
      },
      "execution_count": null,
      "outputs": [
        {
          "output_type": "stream",
          "name": "stdout",
          "text": [
            "ROC AUC score: 0.6998985654253007\n"
          ]
        },
        {
          "output_type": "display_data",
          "data": {
            "text/plain": [
              "<Figure size 432x288 with 1 Axes>"
            ],
            "image/png": "[encoded data removed]"
          },
          "metadata": {
            "needs_background": "light"
          }
        }
      ]
    },
    {
      "cell_type": "code",
      "source": [
        "ccp_options = np.linspace(0.01,0.5,50)                          # creating a range of cpp_alpha values to test\n",
        "accuracy_train, accuracy_test = [], []                                \n",
        "\n",
        "for cpp in ccp_options:\n",
        "  tree = DecisionTreeClassifier(ccp_alpha = cpp)                # testing out different options for ccp_alpha\n",
        "  tree.fit(x_train,y_train)\n",
        "  y_train_pred=tree.predict(x_train)\n",
        "  y_test_pred=tree.predict(x_test)\n",
        "\n",
        "  accuracy_train.append(metrics.accuracy_score(y_train,y_train_pred))\n",
        "  accuracy_test.append(metrics.accuracy_score(y_test,y_test_pred))"
      ],
      "metadata": {
        "id": "aBsYNpFneDEr"
      },
      "execution_count": null,
      "outputs": []
    },
    {
      "cell_type": "code",
      "source": [
        "plt.figure(figsize=(14,7))\n",
        "plt.plot(ccp_options,accuracy_train)\n",
        "plt.plot(ccp_options,accuracy_test)\n",
        "plt.xlabel('ccp_alpha')\n",
        "plt.ylabel('accuracy')\n",
        "plt.legend(['train','test'])\n",
        "plt.title('ccp_alpha accuracy for test and train')\n",
        "plt.show()"
      ],
      "metadata": {
        "colab": {
          "base_uri": "https://localhost:8080/",
          "height": 459
        },
        "id": "gxSgWy1CrVB4",
        "outputId": "bba65318-72bc-4187-92f8-5a2cf4f4f971"
      },
      "execution_count": null,
      "outputs": [
        {
          "output_type": "display_data",
          "data": {
            "text/plain": [
              "<Figure size 1008x504 with 1 Axes>"
            ],
            "image/png": "[encoded data removed]"
          },
          "metadata": {
            "needs_background": "light"
          }
        }
      ]
    },
    {
      "cell_type": "code",
      "source": [
        "min_leaf = range(1,50,1)                          # creating a range of cpp_alpha values to test\n",
        "accuracy_train, accuracy_test = [], []                                \n",
        "\n",
        "for size in min_leaf:\n",
        "  tree = DecisionTreeClassifier(min_samples_leaf = size)                # testing out different options for min_samples_leaf\n",
        "  tree.fit(x_train,y_train)\n",
        "  y_train_pred=tree.predict(x_train)\n",
        "  y_test_pred=tree.predict(x_test)\n",
        "\n",
        "  accuracy_train.append(metrics.accuracy_score(y_train,y_train_pred))\n",
        "  accuracy_test.append(metrics.accuracy_score(y_test,y_test_pred))\n",
        "\n",
        "plt.figure(figsize=(14,7))\n",
        "plt.plot(min_leaf,accuracy_train)\n",
        "plt.plot(min_leaf,accuracy_test)\n",
        "plt.xlabel('min_leaf')\n",
        "plt.ylabel('accuracy')\n",
        "plt.legend(['train','test'])\n",
        "plt.title('min_leaf accuracy for test and train')\n",
        "plt.show()"
      ],
      "metadata": {
        "colab": {
          "base_uri": "https://localhost:8080/",
          "height": 459
        },
        "id": "M-GW4aAWuIaw",
        "outputId": "691c868a-8563-4a4e-9c14-253375ba5526"
      },
      "execution_count": null,
      "outputs": [
        {
          "output_type": "display_data",
          "data": {
            "text/plain": [
              "<Figure size 1008x504 with 1 Axes>"
            ],
            "image/png": "[encoded data removed]"
          },
          "metadata": {
            "needs_background": "light"
          }
        }
      ]
    },
    {
      "cell_type": "code",
      "source": [
        "print(f'confusion matrix: \\n{metrics.confusion_matrix(y_test, y_pred)}')\n",
        "print(f'classification report: \\n{metrics.classification_report(y_test, y_pred)}')"
      ],
      "metadata": {
        "colab": {
          "base_uri": "https://localhost:8080/"
        },
        "id": "vt1UQUT3NtZB",
        "outputId": "be6b1cf9-f57c-41b5-8a5e-83d5d139ed55"
      },
      "execution_count": null,
      "outputs": [
        {
          "output_type": "stream",
          "name": "stdout",
          "text": [
            "confusion matrix: \n",
            "[[45 22]\n",
            " [28 75]]\n",
            "classification report: \n",
            "              precision    recall  f1-score   support\n",
            "\n",
            "           0       0.62      0.67      0.64        67\n",
            "           1       0.77      0.73      0.75       103\n",
            "\n",
            "    accuracy                           0.71       170\n",
            "   macro avg       0.69      0.70      0.70       170\n",
            "weighted avg       0.71      0.71      0.71       170\n",
            "\n"
          ]
        }
      ]
    },
    {
      "cell_type": "code",
      "source": [
        "rf = RandomForestClassifier(n_estimators=200, min_samples_leaf=25)        # create an instance of the RF class object; arguments are passed to when creating the instance\n",
        "tree = rf.fit(x_train,y_train)                                             \n",
        "y_pred = tree.predict(x_test)                                             \n",
        "print(f'confusion matrix: \\n{metrics.confusion_matrix(y_test, y_pred)}')\n",
        "print(f'classification report: \\n{metrics.classification_report(y_test, y_pred)}')"
      ],
      "metadata": {
        "colab": {
          "base_uri": "https://localhost:8080/"
        },
        "id": "HmR3RaWrcBya",
        "outputId": "dd167211-1713-4b51-ef5a-14ed1874224e"
      },
      "execution_count": null,
      "outputs": [
        {
          "output_type": "stream",
          "name": "stdout",
          "text": [
            "confusion matrix: \n",
            "[[51 30]\n",
            " [25 64]]\n",
            "classification report: \n",
            "              precision    recall  f1-score   support\n",
            "\n",
            "           0       0.67      0.63      0.65        81\n",
            "           1       0.68      0.72      0.70        89\n",
            "\n",
            "    accuracy                           0.68       170\n",
            "   macro avg       0.68      0.67      0.67       170\n",
            "weighted avg       0.68      0.68      0.68       170\n",
            "\n"
          ]
        }
      ]
    },
    {
      "cell_type": "markdown",
      "source": [
        "# **Clustering - Hierarchal**"
      ],
      "metadata": {
        "id": "-KOuIqZPvUO8"
      }
    },
    {
      "cell_type": "code",
      "source": [
        "df = pd.read_csv('hierarchical-clustering-with-python-and-scikit-learn-shopping-data.csv')\n",
        "data = df.iloc[:, 1:5].values                               # create a np array from specified rows and values\n",
        "data[:,0] = np.where(data[:,0] == 'Male',1,0)               # change the male/female categorical variable into a number binary"
      ],
      "metadata": {
        "id": "LzvhK9g2vWuH"
      },
      "execution_count": null,
      "outputs": []
    },
    {
      "cell_type": "code",
      "source": [
        "plt.figure(figsize=(10, 7))\n",
        "plt.title(\"Customer Dendograms\")\n",
        "links = linkage(data,metric='euclidean',method='ward')      # perform hierarchical/agglomerative clustering, can specify distance measure and method of comparing clusters\n",
        "dend = dendrogram(links)                                    # create dendrogram"
      ],
      "metadata": {
        "colab": {
          "base_uri": "https://localhost:8080/",
          "height": 444
        },
        "id": "O3Lc4Xx_4KHL",
        "outputId": "80974543-eb66-4df6-da4b-b72a43146d89"
      },
      "execution_count": null,
      "outputs": [
        {
          "output_type": "display_data",
          "data": {
            "text/plain": [
              "<Figure size 720x504 with 1 Axes>"
            ],
            "image/png": "[encoded data removed]"
          },
          "metadata": {
            "needs_background": "light"
          }
        }
      ]
    },
    {
      "cell_type": "code",
      "source": [
        "clusters = AgglomerativeClustering(n_clusters=6, affinity='euclidean', linkage='ward')\n",
        "clusters.fit_predict(data)\n",
        "plt.figure(figsize=(10, 7))\n",
        "plt.scatter(data[:,2], data[:,3], c=clusters.labels_, cmap='rainbow')"
      ],
      "metadata": {
        "colab": {
          "base_uri": "https://localhost:8080/",
          "height": 446
        },
        "id": "PHCHGLuh5gZY",
        "outputId": "b743da88-9935-4d7c-8e31-2d7d805c8a37"
      },
      "execution_count": null,
      "outputs": [
        {
          "output_type": "execute_result",
          "data": {
            "text/plain": [
              "<matplotlib.collections.PathCollection at 0x7f4b360047d0>"
            ]
          },
          "metadata": {},
          "execution_count": 130
        },
        {
          "output_type": "display_data",
          "data": {
            "text/plain": [
              "<Figure size 720x504 with 1 Axes>"
            ],
            "image/png": "[encoded data removed]"
          },
          "metadata": {
            "needs_background": "light"
          }
        }
      ]
    },
    {
      "cell_type": "markdown",
      "source": [
        "**MISC**"
      ],
      "metadata": {
        "id": "EiFT8NI9LR1C"
      }
    },
    {
      "cell_type": "markdown",
      "source": [
        ""
      ],
      "metadata": {
        "id": "0lYQvulKLPad"
      }
    },
    {
      "cell_type": "code",
      "source": [
        "df.columns = ['Timestamp', 'Price']                 # change heading of columns\n",
        "df['Timestamp'] = pd.to_datetime(df['Timestamp'])   # apply the 'to_datetime' function to column 'Timestamp' to parse those values to datetime\n",
        "df.set_index('Timestamp', inplace=True)             # define column 'Timestamp' as the index column"
      ],
      "metadata": {
        "id": "xkSrQu2RBvup"
      },
      "execution_count": null,
      "outputs": []
    },
    {
      "cell_type": "code",
      "source": [
        "plt.plot(df.index, df['Price'])                     # create plot with x, y arrays\n",
        "plt.title('Name')                                   # change title of the global chart\n",
        "plt.figure(figsize=(12,6))                          # edit only the specified figure\n",
        "# DecisionTreeRegressor \n",
        "# print('Mean Absolute Error:', metrics.mean_absolute_error(y_test, y_pred))\n",
        "# print('Mean Squared Error:', metrics.mean_squared_error(y_test, y_pred))\n",
        "# print('Root Mean Squared Error:', np.sqrt(metrics.mean_squared_error(y_test, y_pred)))"
      ],
      "metadata": {
        "id": "n7BkUwNVCWma"
      },
      "execution_count": null,
      "outputs": []
    }
  ]
}